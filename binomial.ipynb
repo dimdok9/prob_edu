{
 "cells": [
  {
   "cell_type": "code",
   "execution_count": 1,
   "metadata": {
    "slideshow": {
     "slide_type": "notes"
    }
   },
   "outputs": [],
   "source": [
    "import numpy as np\n",
    "import matplotlib.pyplot as plt\n",
    "from scipy import stats\n",
    "from scipy.stats import chisquare\n",
    "from scipy.stats import chi2"
   ]
  },
  {
   "cell_type": "markdown",
   "metadata": {},
   "source": [
    "# 뽑기 특징: \n",
    "- 몇번을 뽑던간에 전에 뽑았던게 다음 뽑기에 영향을 미치지 안습니다.\n",
    "- 예를들자면 99번 못뽑았으니까 다음 뽑기는 뽑힐것이다 라고 생각하면 안댑니다."
   ]
  },
  {
   "cell_type": "markdown",
   "metadata": {
    "slideshow": {
     "slide_type": "slide"
    }
   },
   "source": [
    "# 우선 확률이 1%인 뽑기를 1,000번 돌려보도록 하겠습니다."
   ]
  },
  {
   "cell_type": "code",
   "execution_count": 8,
   "metadata": {
    "slideshow": {
     "slide_type": "slide"
    }
   },
   "outputs": [
    {
     "name": "stdout",
     "output_type": "stream",
     "text": [
      "갓챠를 1000번 돌려서 17개의 레어 아이템을 뽑았습니다\n"
     ]
    }
   ],
   "source": [
    "num = 0\n",
    "for i in range(1000):\n",
    "    if np.random.uniform() <= 0.01:\n",
    "        num += 1\n",
    "        \n",
    "print('갓챠를 1000번 돌려서 {}개의 레어 아이템을 뽑았습니다'.format(num))"
   ]
  },
  {
   "cell_type": "markdown",
   "metadata": {},
   "source": [
    "# 확률이 1%인 뽑기를 1,000번 돌려서 몇번이 나오는지를 또 1,000번 기록하여 그 분포를 보도록 하여 보겠습니다."
   ]
  },
  {
   "cell_type": "code",
   "execution_count": 9,
   "metadata": {},
   "outputs": [],
   "source": [
    "k = []\n",
    "for _ in range(1000):\n",
    "    num = 0\n",
    "    for _ in range(1000):\n",
    "        if np.random.uniform() <= 0.01:\n",
    "            num += 1\n",
    "    k.append(num)"
   ]
  },
  {
   "cell_type": "code",
   "execution_count": 10,
   "metadata": {},
   "outputs": [
    {
     "data": {
      "text/plain": [
       "9.864"
      ]
     },
     "execution_count": 10,
     "metadata": {},
     "output_type": "execute_result"
    }
   ],
   "source": [
    "np.mean(k)"
   ]
  },
  {
   "cell_type": "code",
   "execution_count": 11,
   "metadata": {},
   "outputs": [
    {
     "data": {
      "text/plain": [
       "<BarContainer object of 30 artists>"
      ]
     },
     "execution_count": 11,
     "metadata": {},
     "output_type": "execute_result"
    },
    {
     "data": {
      "image/png": "[encoded data removed]",
      "text/plain": [
       "<Figure size 720x432 with 1 Axes>"
      ]
     },
     "metadata": {
      "needs_background": "light"
     },
     "output_type": "display_data"
    }
   ],
   "source": [
    "\n",
    "l = dict(zip(list(range(30)),[0]*30))\n",
    "for i in k:\n",
    "    if i in l:\n",
    "        l[i] += 1\n",
    "        \n",
    "l\n",
    "plt.figure(figsize = (10,6))\n",
    "plt.xticks(list(range(30)))\n",
    "# plt.hist(k, bins = 10)\n",
    "plt.bar(l.keys(), l.values(), color = ['red']*5 + ['blue'] * 25)"
   ]
  },
  {
   "cell_type": "code",
   "execution_count": 12,
   "metadata": {},
   "outputs": [
    {
     "data": {
      "text/plain": [
       "0.033"
      ]
     },
     "execution_count": 12,
     "metadata": {},
     "output_type": "execute_result"
    }
   ],
   "source": [
    "# 이 분포에서 4개 이하가 뽑혔을때의 사후확률을 구해보겠습니다.\n",
    "total = 0\n",
    "for i in range(5):\n",
    "    total += l[i]\n",
    "total/1000"
   ]
  },
  {
   "cell_type": "code",
   "execution_count": 268,
   "metadata": {},
   "outputs": [
    {
     "data": {
      "text/plain": [
       "((array([-3.19758950e+00, -2.93237785e+00, -2.78437841e+00, -2.67999560e+00,\n",
       "         -2.59855946e+00, -2.53139899e+00, -2.47402263e+00, -2.42379214e+00,\n",
       "         -2.37902149e+00, -2.33856546e+00, -2.30160949e+00, -2.26755284e+00,\n",
       "         -2.23593934e+00, -2.20641415e+00, -2.17869564e+00, -2.15255643e+00,\n",
       "         -2.12781017e+00, -2.10430217e+00, -2.08190261e+00, -2.06050135e+00,\n",
       "         -2.04000420e+00, -2.02032992e+00, -2.00140792e+00, -1.98317650e+00,\n",
       "         -1.96558137e+00, -1.94857451e+00, -1.93211325e+00, -1.91615948e+00,\n",
       "         -1.90067901e+00, -1.88564107e+00, -1.87101783e+00, -1.85678408e+00,\n",
       "         -1.84291686e+00, -1.82939524e+00, -1.81620005e+00, -1.80331371e+00,\n",
       "         -1.79072004e+00, -1.77840415e+00, -1.76635224e+00, -1.75455157e+00,\n",
       "         -1.74299028e+00, -1.73165738e+00, -1.72054262e+00, -1.70963644e+00,\n",
       "         -1.69892989e+00, -1.68841463e+00, -1.67808281e+00, -1.66792707e+00,\n",
       "         -1.65794051e+00, -1.64811661e+00, -1.63844924e+00, -1.62893261e+00,\n",
       "         -1.61956127e+00, -1.61033003e+00, -1.60123402e+00, -1.59226859e+00,\n",
       "         -1.58342935e+00, -1.57471213e+00, -1.56611295e+00, -1.55762804e+00,\n",
       "         -1.54925381e+00, -1.54098684e+00, -1.53282387e+00, -1.52476177e+00,\n",
       "         -1.51679758e+00, -1.50892845e+00, -1.50115166e+00, -1.49346462e+00,\n",
       "         -1.48586482e+00, -1.47834989e+00, -1.47091753e+00, -1.46356555e+00,\n",
       "         -1.45629184e+00, -1.44909437e+00, -1.44197119e+00, -1.43492043e+00,\n",
       "         -1.42794030e+00, -1.42102906e+00, -1.41418503e+00, -1.40740661e+00,\n",
       "         -1.40069224e+00, -1.39404044e+00, -1.38744975e+00, -1.38091878e+00,\n",
       "         -1.37444619e+00, -1.36803067e+00, -1.36167098e+00, -1.35536588e+00,\n",
       "         -1.34911421e+00, -1.34291482e+00, -1.33676663e+00, -1.33066855e+00,\n",
       "         -1.32461956e+00, -1.31861865e+00, -1.31266485e+00, -1.30675722e+00,\n",
       "         -1.30089485e+00, -1.29507686e+00, -1.28930237e+00, -1.28357055e+00,\n",
       "         -1.27788060e+00, -1.27223172e+00, -1.26662315e+00, -1.26105415e+00,\n",
       "         -1.25552398e+00, -1.25003194e+00, -1.24457735e+00, -1.23915954e+00,\n",
       "         -1.23377786e+00, -1.22843168e+00, -1.22312038e+00, -1.21784337e+00,\n",
       "         -1.21260004e+00, -1.20738985e+00, -1.20221223e+00, -1.19706664e+00,\n",
       "         -1.19195255e+00, -1.18686944e+00, -1.18181682e+00, -1.17679419e+00,\n",
       "         -1.17180107e+00, -1.16683699e+00, -1.16190151e+00, -1.15699416e+00,\n",
       "         -1.15211453e+00, -1.14726217e+00, -1.14243667e+00, -1.13763763e+00,\n",
       "         -1.13286465e+00, -1.12811734e+00, -1.12339532e+00, -1.11869822e+00,\n",
       "         -1.11402566e+00, -1.10937731e+00, -1.10475280e+00, -1.10015180e+00,\n",
       "         -1.09557397e+00, -1.09101899e+00, -1.08648653e+00, -1.08197628e+00,\n",
       "         -1.07748793e+00, -1.07302119e+00, -1.06857575e+00, -1.06415133e+00,\n",
       "         -1.05974765e+00, -1.05536442e+00, -1.05100137e+00, -1.04665824e+00,\n",
       "         -1.04233476e+00, -1.03803068e+00, -1.03374574e+00, -1.02947970e+00,\n",
       "         -1.02523232e+00, -1.02100335e+00, -1.01679256e+00, -1.01259972e+00,\n",
       "         -1.00842461e+00, -1.00426700e+00, -1.00012668e+00, -9.96003439e-01,\n",
       "         -9.91897058e-01, -9.87807334e-01, -9.83734067e-01, -9.79677056e-01,\n",
       "         -9.75636106e-01, -9.71611024e-01, -9.67601623e-01, -9.63607717e-01,\n",
       "         -9.59629122e-01, -9.55665660e-01, -9.51717154e-01, -9.47783430e-01,\n",
       "         -9.43864319e-01, -9.39959651e-01, -9.36069261e-01, -9.32192988e-01,\n",
       "         -9.28330671e-01, -9.24482153e-01, -9.20647280e-01, -9.16825898e-01,\n",
       "         -9.13017857e-01, -9.09223011e-01, -9.05441213e-01, -9.01672321e-01,\n",
       "         -8.97916193e-01, -8.94172691e-01, -8.90441678e-01, -8.86723020e-01,\n",
       "         -8.83016583e-01, -8.79322237e-01, -8.75639853e-01, -8.71969305e-01,\n",
       "         -8.68310468e-01, -8.64663218e-01, -8.61027434e-01, -8.57402996e-01,\n",
       "         -8.53789787e-01, -8.50187690e-01, -8.46596591e-01, -8.43016376e-01,\n",
       "         -8.39446935e-01, -8.35888157e-01, -8.32339934e-01, -8.28802160e-01,\n",
       "         -8.25274728e-01, -8.21757535e-01, -8.18250479e-01, -8.14753457e-01,\n",
       "         -8.11266372e-01, -8.07789123e-01, -8.04321614e-01, -8.00863750e-01,\n",
       "         -7.97415434e-01, -7.93976575e-01, -7.90547079e-01, -7.87126857e-01,\n",
       "         -7.83715817e-01, -7.80313872e-01, -7.76920933e-01, -7.73536915e-01,\n",
       "         -7.70161733e-01, -7.66795301e-01, -7.63437536e-01, -7.60088358e-01,\n",
       "         -7.56747683e-01, -7.53415433e-01, -7.50091527e-01, -7.46775888e-01,\n",
       "         -7.43468439e-01, -7.40169103e-01, -7.36877804e-01, -7.33594468e-01,\n",
       "         -7.30319022e-01, -7.27051392e-01, -7.23791507e-01, -7.20539295e-01,\n",
       "         -7.17294687e-01, -7.14057613e-01, -7.10828003e-01, -7.07605791e-01,\n",
       "         -7.04390909e-01, -7.01183291e-01, -6.97982871e-01, -6.94789584e-01,\n",
       "         -6.91603367e-01, -6.88424155e-01, -6.85251886e-01, -6.82086498e-01,\n",
       "         -6.78927930e-01, -6.75776120e-01, -6.72631010e-01, -6.69492539e-01,\n",
       "         -6.66360648e-01, -6.63235280e-01, -6.60116377e-01, -6.57003883e-01,\n",
       "         -6.53897740e-01, -6.50797893e-01, -6.47704287e-01, -6.44616868e-01,\n",
       "         -6.41535581e-01, -6.38460373e-01, -6.35391191e-01, -6.32327983e-01,\n",
       "         -6.29270697e-01, -6.26219281e-01, -6.23173684e-01, -6.20133858e-01,\n",
       "         -6.17099750e-01, -6.14071313e-01, -6.11048498e-01, -6.08031256e-01,\n",
       "         -6.05019539e-01, -6.02013299e-01, -5.99012491e-01, -5.96017067e-01,\n",
       "         -5.93026981e-01, -5.90042188e-01, -5.87062643e-01, -5.84088300e-01,\n",
       "         -5.81119115e-01, -5.78155045e-01, -5.75196045e-01, -5.72242074e-01,\n",
       "         -5.69293087e-01, -5.66349043e-01, -5.63409899e-01, -5.60475614e-01,\n",
       "         -5.57546147e-01, -5.54621458e-01, -5.51701504e-01, -5.48786247e-01,\n",
       "         -5.45875647e-01, -5.42969663e-01, -5.40068258e-01, -5.37171392e-01,\n",
       "         -5.34279026e-01, -5.31391124e-01, -5.28507646e-01, -5.25628557e-01,\n",
       "         -5.22753817e-01, -5.19883391e-01, -5.17017243e-01, -5.14155335e-01,\n",
       "         -5.11297632e-01, -5.08444099e-01, -5.05594699e-01, -5.02749399e-01,\n",
       "         -4.99908163e-01, -4.97070957e-01, -4.94237747e-01, -4.91408498e-01,\n",
       "         -4.88583178e-01, -4.85761752e-01, -4.82944188e-01, -4.80130452e-01,\n",
       "         -4.77320513e-01, -4.74514337e-01, -4.71711893e-01, -4.68913149e-01,\n",
       "         -4.66118073e-01, -4.63326634e-01, -4.60538801e-01, -4.57754542e-01,\n",
       "         -4.54973827e-01, -4.52196626e-01, -4.49422908e-01, -4.46652644e-01,\n",
       "         -4.43885803e-01, -4.41122356e-01, -4.38362274e-01, -4.35605527e-01,\n",
       "         -4.32852086e-01, -4.30101924e-01, -4.27355010e-01, -4.24611318e-01,\n",
       "         -4.21870818e-01, -4.19133483e-01, -4.16399284e-01, -4.13668196e-01,\n",
       "         -4.10940189e-01, -4.08215237e-01, -4.05493313e-01, -4.02774389e-01,\n",
       "         -4.00058440e-01, -3.97345439e-01, -3.94635359e-01, -3.91928175e-01,\n",
       "         -3.89223860e-01, -3.86522388e-01, -3.83823735e-01, -3.81127874e-01,\n",
       "         -3.78434779e-01, -3.75744427e-01, -3.73056792e-01, -3.70371848e-01,\n",
       "         -3.67689572e-01, -3.65009939e-01, -3.62332924e-01, -3.59658504e-01,\n",
       "         -3.56986653e-01, -3.54317348e-01, -3.51650566e-01, -3.48986282e-01,\n",
       "         -3.46324472e-01, -3.43665115e-01, -3.41008186e-01, -3.38353661e-01,\n",
       "         -3.35701519e-01, -3.33051736e-01, -3.30404290e-01, -3.27759157e-01,\n",
       "         -3.25116316e-01, -3.22475743e-01, -3.19837417e-01, -3.17201315e-01,\n",
       "         -3.14567416e-01, -3.11935698e-01, -3.09306138e-01, -3.06678715e-01,\n",
       "         -3.04053407e-01, -3.01430193e-01, -2.98809052e-01, -2.96189962e-01,\n",
       "         -2.93572903e-01, -2.90957852e-01, -2.88344790e-01, -2.85733695e-01,\n",
       "         -2.83124547e-01, -2.80517325e-01, -2.77912008e-01, -2.75308576e-01,\n",
       "         -2.72707009e-01, -2.70107286e-01, -2.67509388e-01, -2.64913294e-01,\n",
       "         -2.62318984e-01, -2.59726438e-01, -2.57135637e-01, -2.54546561e-01,\n",
       "         -2.51959189e-01, -2.49373504e-01, -2.46789484e-01, -2.44207112e-01,\n",
       "         -2.41626367e-01, -2.39047230e-01, -2.36469683e-01, -2.33893705e-01,\n",
       "         -2.31319279e-01, -2.28746384e-01, -2.26175004e-01, -2.23605117e-01,\n",
       "         -2.21036707e-01, -2.18469754e-01, -2.15904240e-01, -2.13340146e-01,\n",
       "         -2.10777454e-01, -2.08216145e-01, -2.05656202e-01, -2.03097605e-01,\n",
       "         -2.00540338e-01, -1.97984381e-01, -1.95429717e-01, -1.92876328e-01,\n",
       "         -1.90324196e-01, -1.87773302e-01, -1.85223630e-01, -1.82675162e-01,\n",
       "         -1.80127879e-01, -1.77581765e-01, -1.75036802e-01, -1.72492971e-01,\n",
       "         -1.69950256e-01, -1.67408640e-01, -1.64868105e-01, -1.62328633e-01,\n",
       "         -1.59790208e-01, -1.57252812e-01, -1.54716428e-01, -1.52181038e-01,\n",
       "         -1.49646627e-01, -1.47113177e-01, -1.44580670e-01, -1.42049091e-01,\n",
       "         -1.39518421e-01, -1.36988645e-01, -1.34459745e-01, -1.31931705e-01,\n",
       "         -1.29404507e-01, -1.26878136e-01, -1.24352575e-01, -1.21827806e-01,\n",
       "         -1.19303813e-01, -1.16780581e-01, -1.14258092e-01, -1.11736329e-01,\n",
       "         -1.09215277e-01, -1.06694919e-01, -1.04175238e-01, -1.01656219e-01,\n",
       "         -9.91378445e-02, -9.66200987e-02, -9.41029651e-02, -9.15864277e-02,\n",
       "         -8.90704701e-02, -8.65550762e-02, -8.40402299e-02, -8.15259149e-02,\n",
       "         -7.90121153e-02, -7.64988148e-02, -7.39859974e-02, -7.14736472e-02,\n",
       "         -6.89617480e-02, -6.64502838e-02, -6.39392387e-02, -6.14285967e-02,\n",
       "         -5.89183419e-02, -5.64084582e-02, -5.38989299e-02, -5.13897409e-02,\n",
       "         -4.88808755e-02, -4.63723177e-02, -4.38640516e-02, -4.13560616e-02,\n",
       "         -3.88483316e-02, -3.63408459e-02, -3.38335886e-02, -3.13265441e-02,\n",
       "         -2.88196964e-02, -2.63130298e-02, -2.38065286e-02, -2.13001769e-02,\n",
       "         -1.87939590e-02, -1.62878591e-02, -1.37818616e-02, -1.12759505e-02,\n",
       "         -8.77011034e-03, -6.26432519e-03, -3.75857938e-03, -1.25285717e-03,\n",
       "          1.25285717e-03,  3.75857938e-03,  6.26432519e-03,  8.77011034e-03,\n",
       "          1.12759505e-02,  1.37818616e-02,  1.62878591e-02,  1.87939590e-02,\n",
       "          2.13001769e-02,  2.38065286e-02,  2.63130298e-02,  2.88196964e-02,\n",
       "          3.13265441e-02,  3.38335886e-02,  3.63408459e-02,  3.88483316e-02,\n",
       "          4.13560616e-02,  4.38640516e-02,  4.63723177e-02,  4.88808755e-02,\n",
       "          5.13897409e-02,  5.38989299e-02,  5.64084582e-02,  5.89183419e-02,\n",
       "          6.14285967e-02,  6.39392387e-02,  6.64502838e-02,  6.89617480e-02,\n",
       "          7.14736472e-02,  7.39859974e-02,  7.64988148e-02,  7.90121153e-02,\n",
       "          8.15259149e-02,  8.40402299e-02,  8.65550762e-02,  8.90704701e-02,\n",
       "          9.15864277e-02,  9.41029651e-02,  9.66200987e-02,  9.91378445e-02,\n",
       "          1.01656219e-01,  1.04175238e-01,  1.06694919e-01,  1.09215277e-01,\n",
       "          1.11736329e-01,  1.14258092e-01,  1.16780581e-01,  1.19303813e-01,\n",
       "          1.21827806e-01,  1.24352575e-01,  1.26878136e-01,  1.29404507e-01,\n",
       "          1.31931705e-01,  1.34459745e-01,  1.36988645e-01,  1.39518421e-01,\n",
       "          1.42049091e-01,  1.44580670e-01,  1.47113177e-01,  1.49646627e-01,\n",
       "          1.52181038e-01,  1.54716428e-01,  1.57252812e-01,  1.59790208e-01,\n",
       "          1.62328633e-01,  1.64868105e-01,  1.67408640e-01,  1.69950256e-01,\n",
       "          1.72492971e-01,  1.75036802e-01,  1.77581765e-01,  1.80127879e-01,\n",
       "          1.82675162e-01,  1.85223630e-01,  1.87773302e-01,  1.90324196e-01,\n",
       "          1.92876328e-01,  1.95429717e-01,  1.97984381e-01,  2.00540338e-01,\n",
       "          2.03097605e-01,  2.05656202e-01,  2.08216145e-01,  2.10777454e-01,\n",
       "          2.13340146e-01,  2.15904240e-01,  2.18469754e-01,  2.21036707e-01,\n",
       "          2.23605117e-01,  2.26175004e-01,  2.28746384e-01,  2.31319279e-01,\n",
       "          2.33893705e-01,  2.36469683e-01,  2.39047230e-01,  2.41626367e-01,\n",
       "          2.44207112e-01,  2.46789484e-01,  2.49373504e-01,  2.51959189e-01,\n",
       "          2.54546561e-01,  2.57135637e-01,  2.59726438e-01,  2.62318984e-01,\n",
       "          2.64913294e-01,  2.67509388e-01,  2.70107286e-01,  2.72707009e-01,\n",
       "          2.75308576e-01,  2.77912008e-01,  2.80517325e-01,  2.83124547e-01,\n",
       "          2.85733695e-01,  2.88344790e-01,  2.90957852e-01,  2.93572903e-01,\n",
       "          2.96189962e-01,  2.98809052e-01,  3.01430193e-01,  3.04053407e-01,\n",
       "          3.06678715e-01,  3.09306138e-01,  3.11935698e-01,  3.14567416e-01,\n",
       "          3.17201315e-01,  3.19837417e-01,  3.22475743e-01,  3.25116316e-01,\n",
       "          3.27759157e-01,  3.30404290e-01,  3.33051736e-01,  3.35701519e-01,\n",
       "          3.38353661e-01,  3.41008186e-01,  3.43665115e-01,  3.46324472e-01,\n",
       "          3.48986282e-01,  3.51650566e-01,  3.54317348e-01,  3.56986653e-01,\n",
       "          3.59658504e-01,  3.62332924e-01,  3.65009939e-01,  3.67689572e-01,\n",
       "          3.70371848e-01,  3.73056792e-01,  3.75744427e-01,  3.78434779e-01,\n",
       "          3.81127874e-01,  3.83823735e-01,  3.86522388e-01,  3.89223860e-01,\n",
       "          3.91928175e-01,  3.94635359e-01,  3.97345439e-01,  4.00058440e-01,\n",
       "          4.02774389e-01,  4.05493313e-01,  4.08215237e-01,  4.10940189e-01,\n",
       "          4.13668196e-01,  4.16399284e-01,  4.19133483e-01,  4.21870818e-01,\n",
       "          4.24611318e-01,  4.27355010e-01,  4.30101924e-01,  4.32852086e-01,\n",
       "          4.35605527e-01,  4.38362274e-01,  4.41122356e-01,  4.43885803e-01,\n",
       "          4.46652644e-01,  4.49422908e-01,  4.52196626e-01,  4.54973827e-01,\n",
       "          4.57754542e-01,  4.60538801e-01,  4.63326634e-01,  4.66118073e-01,\n",
       "          4.68913149e-01,  4.71711893e-01,  4.74514337e-01,  4.77320513e-01,\n",
       "          4.80130452e-01,  4.82944188e-01,  4.85761752e-01,  4.88583178e-01,\n",
       "          4.91408498e-01,  4.94237747e-01,  4.97070957e-01,  4.99908163e-01,\n",
       "          5.02749399e-01,  5.05594699e-01,  5.08444099e-01,  5.11297632e-01,\n",
       "          5.14155335e-01,  5.17017243e-01,  5.19883391e-01,  5.22753817e-01,\n",
       "          5.25628557e-01,  5.28507646e-01,  5.31391124e-01,  5.34279026e-01,\n",
       "          5.37171392e-01,  5.40068258e-01,  5.42969663e-01,  5.45875647e-01,\n",
       "          5.48786247e-01,  5.51701504e-01,  5.54621458e-01,  5.57546147e-01,\n",
       "          5.60475614e-01,  5.63409899e-01,  5.66349043e-01,  5.69293087e-01,\n",
       "          5.72242074e-01,  5.75196045e-01,  5.78155045e-01,  5.81119115e-01,\n",
       "          5.84088300e-01,  5.87062643e-01,  5.90042188e-01,  5.93026981e-01,\n",
       "          5.96017067e-01,  5.99012491e-01,  6.02013299e-01,  6.05019539e-01,\n",
       "          6.08031256e-01,  6.11048498e-01,  6.14071313e-01,  6.17099750e-01,\n",
       "          6.20133858e-01,  6.23173684e-01,  6.26219281e-01,  6.29270697e-01,\n",
       "          6.32327983e-01,  6.35391191e-01,  6.38460373e-01,  6.41535581e-01,\n",
       "          6.44616868e-01,  6.47704287e-01,  6.50797893e-01,  6.53897740e-01,\n",
       "          6.57003883e-01,  6.60116377e-01,  6.63235280e-01,  6.66360648e-01,\n",
       "          6.69492539e-01,  6.72631010e-01,  6.75776120e-01,  6.78927930e-01,\n",
       "          6.82086498e-01,  6.85251886e-01,  6.88424155e-01,  6.91603367e-01,\n",
       "          6.94789584e-01,  6.97982871e-01,  7.01183291e-01,  7.04390909e-01,\n",
       "          7.07605791e-01,  7.10828003e-01,  7.14057613e-01,  7.17294687e-01,\n",
       "          7.20539295e-01,  7.23791507e-01,  7.27051392e-01,  7.30319022e-01,\n",
       "          7.33594468e-01,  7.36877804e-01,  7.40169103e-01,  7.43468439e-01,\n",
       "          7.46775888e-01,  7.50091527e-01,  7.53415433e-01,  7.56747683e-01,\n",
       "          7.60088358e-01,  7.63437536e-01,  7.66795301e-01,  7.70161733e-01,\n",
       "          7.73536915e-01,  7.76920933e-01,  7.80313872e-01,  7.83715817e-01,\n",
       "          7.87126857e-01,  7.90547079e-01,  7.93976575e-01,  7.97415434e-01,\n",
       "          8.00863750e-01,  8.04321614e-01,  8.07789123e-01,  8.11266372e-01,\n",
       "          8.14753457e-01,  8.18250479e-01,  8.21757535e-01,  8.25274728e-01,\n",
       "          8.28802160e-01,  8.32339934e-01,  8.35888157e-01,  8.39446935e-01,\n",
       "          8.43016376e-01,  8.46596591e-01,  8.50187690e-01,  8.53789787e-01,\n",
       "          8.57402996e-01,  8.61027434e-01,  8.64663218e-01,  8.68310468e-01,\n",
       "          8.71969305e-01,  8.75639853e-01,  8.79322237e-01,  8.83016583e-01,\n",
       "          8.86723020e-01,  8.90441678e-01,  8.94172691e-01,  8.97916193e-01,\n",
       "          9.01672321e-01,  9.05441213e-01,  9.09223011e-01,  9.13017857e-01,\n",
       "          9.16825898e-01,  9.20647280e-01,  9.24482153e-01,  9.28330671e-01,\n",
       "          9.32192988e-01,  9.36069261e-01,  9.39959651e-01,  9.43864319e-01,\n",
       "          9.47783430e-01,  9.51717154e-01,  9.55665660e-01,  9.59629122e-01,\n",
       "          9.63607717e-01,  9.67601623e-01,  9.71611024e-01,  9.75636106e-01,\n",
       "          9.79677056e-01,  9.83734067e-01,  9.87807334e-01,  9.91897058e-01,\n",
       "          9.96003439e-01,  1.00012668e+00,  1.00426700e+00,  1.00842461e+00,\n",
       "          1.01259972e+00,  1.01679256e+00,  1.02100335e+00,  1.02523232e+00,\n",
       "          1.02947970e+00,  1.03374574e+00,  1.03803068e+00,  1.04233476e+00,\n",
       "          1.04665824e+00,  1.05100137e+00,  1.05536442e+00,  1.05974765e+00,\n",
       "          1.06415133e+00,  1.06857575e+00,  1.07302119e+00,  1.07748793e+00,\n",
       "          1.08197628e+00,  1.08648653e+00,  1.09101899e+00,  1.09557397e+00,\n",
       "          1.10015180e+00,  1.10475280e+00,  1.10937731e+00,  1.11402566e+00,\n",
       "          1.11869822e+00,  1.12339532e+00,  1.12811734e+00,  1.13286465e+00,\n",
       "          1.13763763e+00,  1.14243667e+00,  1.14726217e+00,  1.15211453e+00,\n",
       "          1.15699416e+00,  1.16190151e+00,  1.16683699e+00,  1.17180107e+00,\n",
       "          1.17679419e+00,  1.18181682e+00,  1.18686944e+00,  1.19195255e+00,\n",
       "          1.19706664e+00,  1.20221223e+00,  1.20738985e+00,  1.21260004e+00,\n",
       "          1.21784337e+00,  1.22312038e+00,  1.22843168e+00,  1.23377786e+00,\n",
       "          1.23915954e+00,  1.24457735e+00,  1.25003194e+00,  1.25552398e+00,\n",
       "          1.26105415e+00,  1.26662315e+00,  1.27223172e+00,  1.27788060e+00,\n",
       "          1.28357055e+00,  1.28930237e+00,  1.29507686e+00,  1.30089485e+00,\n",
       "          1.30675722e+00,  1.31266485e+00,  1.31861865e+00,  1.32461956e+00,\n",
       "          1.33066855e+00,  1.33676663e+00,  1.34291482e+00,  1.34911421e+00,\n",
       "          1.35536588e+00,  1.36167098e+00,  1.36803067e+00,  1.37444619e+00,\n",
       "          1.38091878e+00,  1.38744975e+00,  1.39404044e+00,  1.40069224e+00,\n",
       "          1.40740661e+00,  1.41418503e+00,  1.42102906e+00,  1.42794030e+00,\n",
       "          1.43492043e+00,  1.44197119e+00,  1.44909437e+00,  1.45629184e+00,\n",
       "          1.46356555e+00,  1.47091753e+00,  1.47834989e+00,  1.48586482e+00,\n",
       "          1.49346462e+00,  1.50115166e+00,  1.50892845e+00,  1.51679758e+00,\n",
       "          1.52476177e+00,  1.53282387e+00,  1.54098684e+00,  1.54925381e+00,\n",
       "          1.55762804e+00,  1.56611295e+00,  1.57471213e+00,  1.58342935e+00,\n",
       "          1.59226859e+00,  1.60123402e+00,  1.61033003e+00,  1.61956127e+00,\n",
       "          1.62893261e+00,  1.63844924e+00,  1.64811661e+00,  1.65794051e+00,\n",
       "          1.66792707e+00,  1.67808281e+00,  1.68841463e+00,  1.69892989e+00,\n",
       "          1.70963644e+00,  1.72054262e+00,  1.73165738e+00,  1.74299028e+00,\n",
       "          1.75455157e+00,  1.76635224e+00,  1.77840415e+00,  1.79072004e+00,\n",
       "          1.80331371e+00,  1.81620005e+00,  1.82939524e+00,  1.84291686e+00,\n",
       "          1.85678408e+00,  1.87101783e+00,  1.88564107e+00,  1.90067901e+00,\n",
       "          1.91615948e+00,  1.93211325e+00,  1.94857451e+00,  1.96558137e+00,\n",
       "          1.98317650e+00,  2.00140792e+00,  2.02032992e+00,  2.04000420e+00,\n",
       "          2.06050135e+00,  2.08190261e+00,  2.10430217e+00,  2.12781017e+00,\n",
       "          2.15255643e+00,  2.17869564e+00,  2.20641415e+00,  2.23593934e+00,\n",
       "          2.26755284e+00,  2.30160949e+00,  2.33856546e+00,  2.37902149e+00,\n",
       "          2.42379214e+00,  2.47402263e+00,  2.53139899e+00,  2.59855946e+00,\n",
       "          2.67999560e+00,  2.78437841e+00,  2.93237785e+00,  3.19758950e+00]),\n",
       "  array([ 2,  2,  2,  3,  3,  3,  3,  3,  3,  3,  3,  3,  4,  4,  4,  4,  4,\n",
       "          4,  4,  4,  4,  4,  4,  4,  4,  4,  4,  4,  4,  4,  5,  5,  5,  5,\n",
       "          5,  5,  5,  5,  5,  5,  5,  5,  5,  5,  5,  5,  5,  5,  5,  5,  5,\n",
       "          5,  5,  5,  5,  5,  5,  5,  5,  5,  5,  6,  6,  6,  6,  6,  6,  6,\n",
       "          6,  6,  6,  6,  6,  6,  6,  6,  6,  6,  6,  6,  6,  6,  6,  6,  6,\n",
       "          6,  6,  6,  6,  6,  6,  6,  6,  6,  6,  6,  6,  6,  6,  6,  6,  6,\n",
       "          6,  6,  6,  6,  6,  6,  6,  6,  6,  6,  6,  6,  6,  6,  6,  6,  6,\n",
       "          6,  6,  6,  6,  6,  6,  6,  6,  7,  7,  7,  7,  7,  7,  7,  7,  7,\n",
       "          7,  7,  7,  7,  7,  7,  7,  7,  7,  7,  7,  7,  7,  7,  7,  7,  7,\n",
       "          7,  7,  7,  7,  7,  7,  7,  7,  7,  7,  7,  7,  7,  7,  7,  7,  7,\n",
       "          7,  7,  7,  7,  7,  7,  7,  7,  7,  7,  7,  7,  7,  7,  7,  7,  7,\n",
       "          7,  7,  7,  7,  7,  7,  7,  7,  7,  7,  7,  7,  7,  7,  7,  7,  7,\n",
       "          7,  7,  7,  7,  7,  7,  7,  7,  7,  8,  8,  8,  8,  8,  8,  8,  8,\n",
       "          8,  8,  8,  8,  8,  8,  8,  8,  8,  8,  8,  8,  8,  8,  8,  8,  8,\n",
       "          8,  8,  8,  8,  8,  8,  8,  8,  8,  8,  8,  8,  8,  8,  8,  8,  8,\n",
       "          8,  8,  8,  8,  8,  8,  8,  8,  8,  8,  8,  8,  8,  8,  8,  8,  8,\n",
       "          8,  8,  8,  8,  8,  8,  8,  8,  8,  8,  8,  8,  8,  8,  8,  8,  8,\n",
       "          8,  8,  8,  8,  8,  8,  8,  8,  8,  8,  8,  8,  8,  8,  8,  8,  8,\n",
       "          8,  8,  8,  8,  8,  8,  8,  8,  8,  8,  8,  8,  8,  8,  8,  8,  8,\n",
       "          8,  8,  8,  8,  8,  9,  9,  9,  9,  9,  9,  9,  9,  9,  9,  9,  9,\n",
       "          9,  9,  9,  9,  9,  9,  9,  9,  9,  9,  9,  9,  9,  9,  9,  9,  9,\n",
       "          9,  9,  9,  9,  9,  9,  9,  9,  9,  9,  9,  9,  9,  9,  9,  9,  9,\n",
       "          9,  9,  9,  9,  9,  9,  9,  9,  9,  9,  9,  9,  9,  9,  9,  9,  9,\n",
       "          9,  9,  9,  9,  9,  9,  9,  9,  9,  9,  9,  9,  9,  9,  9,  9,  9,\n",
       "          9,  9,  9,  9,  9,  9,  9,  9,  9,  9,  9,  9,  9,  9,  9,  9,  9,\n",
       "          9,  9,  9,  9,  9,  9,  9,  9,  9,  9,  9,  9,  9,  9,  9,  9,  9,\n",
       "          9, 10, 10, 10, 10, 10, 10, 10, 10, 10, 10, 10, 10, 10, 10, 10, 10,\n",
       "         10, 10, 10, 10, 10, 10, 10, 10, 10, 10, 10, 10, 10, 10, 10, 10, 10,\n",
       "         10, 10, 10, 10, 10, 10, 10, 10, 10, 10, 10, 10, 10, 10, 10, 10, 10,\n",
       "         10, 10, 10, 10, 10, 10, 10, 10, 10, 10, 10, 10, 10, 10, 10, 10, 10,\n",
       "         10, 10, 10, 10, 10, 10, 10, 10, 10, 10, 10, 10, 10, 10, 10, 10, 10,\n",
       "         10, 10, 10, 10, 10, 10, 10, 10, 10, 10, 10, 10, 10, 10, 10, 10, 10,\n",
       "         10, 10, 10, 10, 10, 10, 10, 10, 10, 10, 10, 10, 10, 10, 10, 10, 10,\n",
       "         10, 10, 10, 10, 10, 10, 10, 10, 10, 10, 10, 10, 10, 10, 10, 10, 10,\n",
       "         10, 10, 10, 10, 10, 10, 10, 10, 10, 10, 10, 10, 10, 10, 11, 11, 11,\n",
       "         11, 11, 11, 11, 11, 11, 11, 11, 11, 11, 11, 11, 11, 11, 11, 11, 11,\n",
       "         11, 11, 11, 11, 11, 11, 11, 11, 11, 11, 11, 11, 11, 11, 11, 11, 11,\n",
       "         11, 11, 11, 11, 11, 11, 11, 11, 11, 11, 11, 11, 11, 11, 11, 11, 11,\n",
       "         11, 11, 11, 11, 11, 11, 11, 11, 11, 11, 11, 11, 11, 11, 11, 11, 11,\n",
       "         11, 11, 11, 11, 11, 11, 11, 11, 11, 11, 11, 11, 11, 11, 11, 11, 11,\n",
       "         11, 11, 11, 11, 11, 11, 11, 11, 11, 11, 11, 11, 11, 11, 11, 11, 11,\n",
       "         11, 11, 11, 11, 12, 12, 12, 12, 12, 12, 12, 12, 12, 12, 12, 12, 12,\n",
       "         12, 12, 12, 12, 12, 12, 12, 12, 12, 12, 12, 12, 12, 12, 12, 12, 12,\n",
       "         12, 12, 12, 12, 12, 12, 12, 12, 12, 12, 12, 12, 12, 12, 12, 12, 12,\n",
       "         12, 12, 12, 12, 12, 12, 12, 12, 12, 12, 12, 12, 12, 12, 12, 12, 12,\n",
       "         12, 12, 12, 12, 12, 12, 12, 12, 12, 12, 12, 12, 12, 12, 12, 12, 12,\n",
       "         12, 12, 12, 12, 12, 12, 12, 12, 13, 13, 13, 13, 13, 13, 13, 13, 13,\n",
       "         13, 13, 13, 13, 13, 13, 13, 13, 13, 13, 13, 13, 13, 13, 13, 13, 13,\n",
       "         13, 13, 13, 13, 13, 13, 13, 13, 13, 13, 13, 13, 13, 13, 13, 13, 13,\n",
       "         13, 13, 13, 13, 13, 13, 13, 13, 13, 13, 13, 13, 13, 13, 13, 13, 13,\n",
       "         13, 13, 13, 13, 13, 13, 13, 13, 13, 13, 13, 13, 13, 13, 13, 13, 13,\n",
       "         14, 14, 14, 14, 14, 14, 14, 14, 14, 14, 14, 14, 14, 14, 14, 14, 14,\n",
       "         14, 14, 14, 14, 14, 14, 14, 14, 14, 14, 14, 14, 14, 14, 14, 14, 14,\n",
       "         14, 14, 14, 14, 14, 14, 14, 14, 14, 14, 14, 14, 14, 14, 14, 14, 14,\n",
       "         15, 15, 15, 15, 15, 15, 15, 15, 15, 15, 15, 15, 15, 15, 15, 15, 15,\n",
       "         15, 15, 15, 15, 15, 15, 15, 15, 15, 15, 15, 15, 15, 16, 16, 16, 16,\n",
       "         16, 16, 16, 16, 16, 16, 16, 16, 16, 16, 16, 16, 16, 16, 16, 16, 16,\n",
       "         16, 16, 17, 17, 17, 17, 17, 17, 17, 17, 17, 17, 17, 17, 17, 17, 17,\n",
       "         18, 18, 18, 18, 19, 19, 19, 19, 19, 19, 20, 20, 21, 21])),\n",
       " (3.1362322309668826, 10.026, 0.9924214106842125))"
      ]
     },
     "execution_count": 268,
     "metadata": {},
     "output_type": "execute_result"
    },
    {
     "data": {
      "image/png": "[encoded data removed]",
      "text/plain": [
       "<Figure size 648x360 with 1 Axes>"
      ]
     },
     "metadata": {
      "needs_background": "light"
     },
     "output_type": "display_data"
    }
   ],
   "source": [
    "plt.figure(figsize = (9,5))\n",
    "stats.probplot(k, dist=stats.norm, plot = plt)"
   ]
  },
  {
   "cell_type": "markdown",
   "metadata": {},
   "source": [
    "# 이항분포\n",
    "이항분포가 무엇이냐\n",
    "https://ko.wikipedia.org/wiki/%EC%9D%B4%ED%95%AD_%EB%B6%84%ED%8F%AC#:~:text=%EC%9D%B4%ED%95%AD%20%EB%B6%84%ED%8F%AC(%E4%BA%8C%E9%A0%85%E5%88%86%E5%B8%83,%EC%8B%9C%ED%96%89%EC%9D%B4%EB%9D%BC%EA%B3%A0%20%EB%B6%88%EB%A6%AC%EA%B8%B0%EB%8F%84%20%ED%95%9C%EB%8B%A4."
   ]
  },
  {
   "cell_type": "code",
   "execution_count": 271,
   "metadata": {},
   "outputs": [
    {
     "data": {
      "text/plain": [
       "0.9999999999999915"
      ]
     },
     "execution_count": 271,
     "metadata": {},
     "output_type": "execute_result"
    }
   ],
   "source": [
    "def c(x,n):\n",
    "    u = 1\n",
    "    for i in range(x - n +1, x+1):\n",
    "        u *= i\n",
    "    d = 1\n",
    "    for i in range(1, n+1):\n",
    "        d *= i\n",
    "    return u/d\n",
    "\n",
    "def binomial(p,n):\n",
    "    k = []\n",
    "    for i in range(n+1):\n",
    "        k.append(c(n,i)*p**i * (1-p)**(n-i))\n",
    "    return k\n",
    "\n",
    "p = 0.01\n",
    "n = 1000\n",
    "\n",
    "\n",
    "k = binomial(p,n)\n",
    "sum(k)"
   ]
  },
  {
   "cell_type": "code",
   "execution_count": null,
   "metadata": {},
   "outputs": [],
   "source": []
  },
  {
   "cell_type": "code",
   "execution_count": 280,
   "metadata": {},
   "outputs": [
    {
     "data": {
      "text/plain": [
       "([<matplotlib.axis.XTick at 0x109eda90>,\n",
       "  <matplotlib.axis.XTick at 0x109ed630>,\n",
       "  <matplotlib.axis.XTick at 0x109ed210>,\n",
       "  <matplotlib.axis.XTick at 0xf5b1170>,\n",
       "  <matplotlib.axis.XTick at 0xf5b1390>,\n",
       "  <matplotlib.axis.XTick at 0xf5b1690>,\n",
       "  <matplotlib.axis.XTick at 0xf5b19d0>,\n",
       "  <matplotlib.axis.XTick at 0xf5b1cf0>,\n",
       "  <matplotlib.axis.XTick at 0xf5ba0d0>,\n",
       "  <matplotlib.axis.XTick at 0xf5b1990>,\n",
       "  <matplotlib.axis.XTick at 0xf5b11d0>,\n",
       "  <matplotlib.axis.XTick at 0xf5ba4f0>,\n",
       "  <matplotlib.axis.XTick at 0xf5ba810>,\n",
       "  <matplotlib.axis.XTick at 0xf5bab30>,\n",
       "  <matplotlib.axis.XTick at 0xf5bae50>,\n",
       "  <matplotlib.axis.XTick at 0xf5c3190>,\n",
       "  <matplotlib.axis.XTick at 0xf5c34b0>,\n",
       "  <matplotlib.axis.XTick at 0xf5c37d0>,\n",
       "  <matplotlib.axis.XTick at 0xf5baa70>,\n",
       "  <matplotlib.axis.XTick at 0xf5b1330>,\n",
       "  <matplotlib.axis.XTick at 0xf5c36f0>,\n",
       "  <matplotlib.axis.XTick at 0xf5c3e50>,\n",
       "  <matplotlib.axis.XTick at 0xf5cb190>,\n",
       "  <matplotlib.axis.XTick at 0xf5cb4b0>,\n",
       "  <matplotlib.axis.XTick at 0xf5cb7d0>,\n",
       "  <matplotlib.axis.XTick at 0xf5cbaf0>,\n",
       "  <matplotlib.axis.XTick at 0xf5cbe10>,\n",
       "  <matplotlib.axis.XTick at 0xf5d6150>,\n",
       "  <matplotlib.axis.XTick at 0xf5cbd50>,\n",
       "  <matplotlib.axis.XTick at 0xf5c3470>],\n",
       " <a list of 30 Text xticklabel objects>)"
      ]
     },
     "execution_count": 280,
     "metadata": {},
     "output_type": "execute_result"
    },
    {
     "data": {
      "image/png": "[encoded data removed]",
      "text/plain": [
       "<Figure size 720x432 with 1 Axes>"
      ]
     },
     "metadata": {
      "needs_background": "light"
     },
     "output_type": "display_data"
    }
   ],
   "source": [
    "plt.figure(figsize = (10,6))\n",
    "plt.bar(list(range(n+1)),k,color = ['red']*5 + ['blue'] * 25)\n",
    "plt.xlim(0,30)\n",
    "plt.xticks(list(range(30)))"
   ]
  },
  {
   "cell_type": "code",
   "execution_count": 282,
   "metadata": {},
   "outputs": [
    {
     "data": {
      "text/plain": [
       "0.02868639999900447"
      ]
     },
     "execution_count": 282,
     "metadata": {},
     "output_type": "execute_result"
    }
   ],
   "source": [
    "sum(k[:5])"
   ]
  },
  {
   "cell_type": "code",
   "execution_count": null,
   "metadata": {},
   "outputs": [],
   "source": [
    "!jupyter nbconvert binomial.ipynb --to slides --post serve"
   ]
  },
  {
   "cell_type": "code",
   "execution_count": 171,
   "metadata": {},
   "outputs": [
    {
     "data": {
      "text/plain": [
       "(0, 20)"
      ]
     },
     "execution_count": 171,
     "metadata": {},
     "output_type": "execute_result"
    },
    {
     "data": {
      "image/png": "[encoded data removed]",
      "text/plain": [
       "<Figure size 432x288 with 1 Axes>"
      ]
     },
     "metadata": {
      "needs_background": "light"
     },
     "output_type": "display_data"
    }
   ],
   "source": [
    "sum(binomial(0.01,1000)[:10])\n",
    "plt.bar(list(range(1000+1)),binomial(0.01,1000))\n",
    "plt.xlim(0,20)"
   ]
  },
  {
   "cell_type": "code",
   "execution_count": 4,
   "metadata": {},
   "outputs": [
    {
     "data": {
      "text/plain": [
       "1.0"
      ]
     },
     "execution_count": 4,
     "metadata": {},
     "output_type": "execute_result"
    }
   ],
   "source": [
    "0.6 + 0.6*0.4 + 0.4 * 0.6 * 0.4 + 0.4 **3"
   ]
  }
 ],
 "metadata": {
  "kernelspec": {
   "display_name": "Python 3",
   "language": "python",
   "name": "python3"
  },
  "language_info": {
   "codemirror_mode": {
    "name": "ipython",
    "version": 3
   },
   "file_extension": ".py",
   "mimetype": "text/x-python",
   "name": "python",
   "nbconvert_exporter": "python",
   "pygments_lexer": "ipython3",
   "version": "3.7.6"
  }
 },
 "nbformat": 4,
 "nbformat_minor": 4
}
