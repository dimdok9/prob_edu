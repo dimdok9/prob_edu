{
 "cells": [
  {
   "cell_type": "markdown",
   "metadata": {},
   "source": [
    "# 우선 필요한 라이브러리를 불러오겠습니다"
   ]
  },
  {
   "cell_type": "code",
   "execution_count": 106,
   "metadata": {},
   "outputs": [],
   "source": [
    "import numpy as np\n",
    "import matplotlib.pyplot as plt\n",
    "import scipy.stats as stats"
   ]
  },
  {
   "cell_type": "markdown",
   "metadata": {},
   "source": [
    "# 편의를 위해 4개의 세트(e.g., 핑클빵)를 먼저 살펴보도록 하겠습니다."
   ]
  },
  {
   "cell_type": "code",
   "execution_count": 166,
   "metadata": {},
   "outputs": [
    {
     "name": "stdout",
     "output_type": "stream",
     "text": [
      "['이진']\n",
      "['이진', '옥주현']\n",
      "['옥주현', '이진', '옥주현']\n",
      "['옥주현', '옥주현', '이진', '이효리']\n",
      "['옥주현', '옥주현', '이진', '이효리', '이진']\n",
      "['옥주현', '옥주현', '이진', '이진', '이효리', '이진']\n",
      "['옥주현', '옥주현', '이진', '이진', '이진', '이효리', '이진']\n",
      "['옥주현', '옥주현', '이진', '이진', '이진', '이진', '이효리', '이효리']\n",
      "['옥주현', '옥주현', '이진', '이진', '이진', '이진', '이효리', '이효리', '이진']\n",
      "['옥주현', '옥주현', '이진', '이진', '이진', '이진', '이진', '이효리', '이효리', '이진']\n",
      "['옥주현', '옥주현', '이진', '이진', '이진', '이진', '이진', '이진', '이효리', '이효리', '성유리']\n",
      "총 11개의 빵을 구입하여 스티커 4개를 모두 모았습니다.\n"
     ]
    }
   ],
   "source": [
    "# 핑클빵에는 4개의 스티커가 있습니다.\n",
    "finkl = ['이효리','이진','성유리','옥주현']\n",
    "\n",
    "# 내가 수집한 스티커의 모음집을 k 라고 하겠습니다.\n",
    "k = []\n",
    "num = 0\n",
    "\n",
    "# 이 코드는 내가 핑클빵의 4개의 스티커를 모두 수집할때까지 계속 빵을 구매하는 것을 구현했습니다.\n",
    "while True:\n",
    "    num += 1\n",
    "    k.append(np.random.choice(finkl))\n",
    "    print(k)\n",
    "    k.sort()\n",
    "    if set(k) == set(finkl):\n",
    "        break\n",
    "print('총 {}개의 빵을 구입하여 스티커 4개를 모두 모았습니다.'.format(num))"
   ]
  },
  {
   "cell_type": "markdown",
   "metadata": {},
   "source": [
    "# 정말 운이 좋을때는 4번만에 모든 스티커를 모을 때도 있습니다. 반면 운이 아주 나쁘면 10번이 넘게 빵을 구매했을때도 스티커를 다 모으지 못할 때도 있지요.\n",
    "# 그렇다면 우리가 대충 빵을 몇개정도를 사야 스티커를 다 모을 수 있는지 평균적으로 알아볼 수 있을까요?"
   ]
  },
  {
   "cell_type": "code",
   "execution_count": 97,
   "metadata": {},
   "outputs": [],
   "source": [
    "# 이 코드는 세가지 부분으로 이루어져 있습니다.\n",
    "# 첫번째는 위에서 본 몇번 빵을 사야 4개의 스티커를 모을 수 있는지를 계산하는 코드를 100번을 반복해서 실행하게 됩니다.\n",
    "# 예를들자면 5번, 7번, 8번, 14번, 9번... 등등의 결과값들이 100번 생성이 되게 됩니다.\n",
    "# 두번째는 이 생성된 100개의 숫자들의 평균을 냅니다.\n",
    "# 마지막으로 세번째는 위 두개의 절차를 다시 1000번 반복하여, 두번째 절차때 생성된 평균값들을 m 이라는 리스트에 저장합니다.\n",
    "\n",
    "\n",
    "m = []\n",
    "\n",
    "for j in range(1000):\n",
    "    l = []\n",
    "    for i in range(100):\n",
    "        k = []\n",
    "        num = 0\n",
    "        while True:\n",
    "            num += 1\n",
    "            k.append(np.random.randint(1,5))\n",
    "            k.sort()\n",
    "            if set(k) == set(list(range(1,5))):\n",
    "                break\n",
    "        l.append(num)    \n",
    "    m.append(np.mean(l))"
   ]
  },
  {
   "cell_type": "markdown",
   "metadata": {},
   "source": [
    "# 자, 이제 모여진 평균들의 평균을 계산해보면, 대충 우리가 원하는 빵을 몇개를 사야 스티커를 모을 수 있는지에 대한 대답이 나올 것 같습니다."
   ]
  },
  {
   "cell_type": "code",
   "execution_count": 135,
   "metadata": {},
   "outputs": [
    {
     "data": {
      "text/plain": [
       "8.33369"
      ]
     },
     "execution_count": 135,
     "metadata": {},
     "output_type": "execute_result"
    }
   ],
   "source": [
    "np.mean(m)"
   ]
  },
  {
   "cell_type": "markdown",
   "metadata": {},
   "source": [
    "# 평균적으로 8.33개의 빵을 사면 스티커 4개를 모을 수 있군요. \n",
    "\n",
    "# 여기서 보너스로 중요한 통계학적 개념을 한개 설명해 드리겠습니다.\n",
    "# 다음은, 스티커 4개를 모을때 까지 빵을 계속 사는것을 100번 반복했을때의 빵 구매 개수의 분포도입니다 (즉, 위에 1,2번 절차)."
   ]
  },
  {
   "cell_type": "code",
   "execution_count": 170,
   "metadata": {},
   "outputs": [
    {
     "data": {
      "text/plain": [
       "(array([0.16578947, 0.15789474, 0.11052632, 0.14210526, 0.05526316,\n",
       "        0.04736842, 0.02368421, 0.01578947, 0.03157895, 0.00789474,\n",
       "        0.00789474, 0.00789474, 0.        , 0.00789474, 0.00789474]),\n",
       " array([ 4.        ,  5.26666667,  6.53333333,  7.8       ,  9.06666667,\n",
       "        10.33333333, 11.6       , 12.86666667, 14.13333333, 15.4       ,\n",
       "        16.66666667, 17.93333333, 19.2       , 20.46666667, 21.73333333,\n",
       "        23.        ]),\n",
       " <a list of 15 Patch objects>)"
      ]
     },
     "execution_count": 170,
     "metadata": {},
     "output_type": "execute_result"
    },
    {
     "data": {
      "image/png": "[encoded data removed]",
      "text/plain": [
       "<Figure size 720x432 with 1 Axes>"
      ]
     },
     "metadata": {
      "needs_background": "light"
     },
     "output_type": "display_data"
    }
   ],
   "source": [
    "l = []\n",
    "for i in range(100):\n",
    "    k = []\n",
    "    num = 0\n",
    "    while True:\n",
    "        num += 1\n",
    "        k.append(np.random.randint(1,5))\n",
    "        k.sort()\n",
    "        if set(k) == set(list(range(1,5))):\n",
    "            break\n",
    "    l.append(num)\n",
    "plt.figure(figsize = (10,6))\n",
    "plt.hist(l, bins = 15, density = True)"
   ]
  },
  {
   "cell_type": "markdown",
   "metadata": {},
   "source": [
    "# 보시다시피 분포가 왼쪽으로 모여있습니다.\n",
    "# 그렇다면 이 분포의 평균을 1,000번 모아두었던 m의 분포는 어떤 모양일까요?\n",
    "# 직관적으로 생각했을때 여러분의 생각은 어떻습니까?"
   ]
  },
  {
   "cell_type": "code",
   "execution_count": 119,
   "metadata": {},
   "outputs": [
    {
     "data": {
      "text/plain": [
       "<matplotlib.legend.Legend at 0xce2ee90>"
      ]
     },
     "execution_count": 119,
     "metadata": {},
     "output_type": "execute_result"
    },
    {
     "data": {
      "image/png": "[encoded data removed]",
      "text/plain": [
       "<Figure size 720x432 with 1 Axes>"
      ]
     },
     "metadata": {
      "needs_background": "light"
     },
     "output_type": "display_data"
    }
   ],
   "source": [
    "plt.figure(figsize = (10,6))\n",
    "plt.hist(m, bins = 20, density = True)\n",
    "noi = stats.norm(loc = np.mean(m), scale = np.std(m))\n",
    "xnoi = np.linspace(noi.ppf(0.0001), noi.ppf(0.9999), 100)\n",
    "ynoi = noi.pdf(xnoi)\n",
    "plt.plot(xnoi,ynoi, label = 'normal distribution')\n",
    "plt.legend()"
   ]
  },
  {
   "cell_type": "markdown",
   "metadata": {},
   "source": [
    "# 보시다시피 이 히스토그램을 보면 평균의 모임인 m의 분포는 확실히 정규분포와 비슷하게 생겼습니다.\n",
    "# 그럼 진짜 정규분포인지 한번 QQ플롯을 그려 확인해보겠습니다."
   ]
  },
  {
   "cell_type": "code",
   "execution_count": 121,
   "metadata": {},
   "outputs": [
    {
     "data": {
      "text/plain": [
       "((array([-3.19758950e+00, -2.93237785e+00, -2.78437841e+00, -2.67999560e+00,\n",
       "         -2.59855946e+00, -2.53139899e+00, -2.47402263e+00, -2.42379214e+00,\n",
       "         -2.37902149e+00, -2.33856546e+00, -2.30160949e+00, -2.26755284e+00,\n",
       "         -2.23593934e+00, -2.20641415e+00, -2.17869564e+00, -2.15255643e+00,\n",
       "         -2.12781017e+00, -2.10430217e+00, -2.08190261e+00, -2.06050135e+00,\n",
       "         -2.04000420e+00, -2.02032992e+00, -2.00140792e+00, -1.98317650e+00,\n",
       "         -1.96558137e+00, -1.94857451e+00, -1.93211325e+00, -1.91615948e+00,\n",
       "         -1.90067901e+00, -1.88564107e+00, -1.87101783e+00, -1.85678408e+00,\n",
       "         -1.84291686e+00, -1.82939524e+00, -1.81620005e+00, -1.80331371e+00,\n",
       "         -1.79072004e+00, -1.77840415e+00, -1.76635224e+00, -1.75455157e+00,\n",
       "         -1.74299028e+00, -1.73165738e+00, -1.72054262e+00, -1.70963644e+00,\n",
       "         -1.69892989e+00, -1.68841463e+00, -1.67808281e+00, -1.66792707e+00,\n",
       "         -1.65794051e+00, -1.64811661e+00, -1.63844924e+00, -1.62893261e+00,\n",
       "         -1.61956127e+00, -1.61033003e+00, -1.60123402e+00, -1.59226859e+00,\n",
       "         -1.58342935e+00, -1.57471213e+00, -1.56611295e+00, -1.55762804e+00,\n",
       "         -1.54925381e+00, -1.54098684e+00, -1.53282387e+00, -1.52476177e+00,\n",
       "         -1.51679758e+00, -1.50892845e+00, -1.50115166e+00, -1.49346462e+00,\n",
       "         -1.48586482e+00, -1.47834989e+00, -1.47091753e+00, -1.46356555e+00,\n",
       "         -1.45629184e+00, -1.44909437e+00, -1.44197119e+00, -1.43492043e+00,\n",
       "         -1.42794030e+00, -1.42102906e+00, -1.41418503e+00, -1.40740661e+00,\n",
       "         -1.40069224e+00, -1.39404044e+00, -1.38744975e+00, -1.38091878e+00,\n",
       "         -1.37444619e+00, -1.36803067e+00, -1.36167098e+00, -1.35536588e+00,\n",
       "         -1.34911421e+00, -1.34291482e+00, -1.33676663e+00, -1.33066855e+00,\n",
       "         -1.32461956e+00, -1.31861865e+00, -1.31266485e+00, -1.30675722e+00,\n",
       "         -1.30089485e+00, -1.29507686e+00, -1.28930237e+00, -1.28357055e+00,\n",
       "         -1.27788060e+00, -1.27223172e+00, -1.26662315e+00, -1.26105415e+00,\n",
       "         -1.25552398e+00, -1.25003194e+00, -1.24457735e+00, -1.23915954e+00,\n",
       "         -1.23377786e+00, -1.22843168e+00, -1.22312038e+00, -1.21784337e+00,\n",
       "         -1.21260004e+00, -1.20738985e+00, -1.20221223e+00, -1.19706664e+00,\n",
       "         -1.19195255e+00, -1.18686944e+00, -1.18181682e+00, -1.17679419e+00,\n",
       "         -1.17180107e+00, -1.16683699e+00, -1.16190151e+00, -1.15699416e+00,\n",
       "         -1.15211453e+00, -1.14726217e+00, -1.14243667e+00, -1.13763763e+00,\n",
       "         -1.13286465e+00, -1.12811734e+00, -1.12339532e+00, -1.11869822e+00,\n",
       "         -1.11402566e+00, -1.10937731e+00, -1.10475280e+00, -1.10015180e+00,\n",
       "         -1.09557397e+00, -1.09101899e+00, -1.08648653e+00, -1.08197628e+00,\n",
       "         -1.07748793e+00, -1.07302119e+00, -1.06857575e+00, -1.06415133e+00,\n",
       "         -1.05974765e+00, -1.05536442e+00, -1.05100137e+00, -1.04665824e+00,\n",
       "         -1.04233476e+00, -1.03803068e+00, -1.03374574e+00, -1.02947970e+00,\n",
       "         -1.02523232e+00, -1.02100335e+00, -1.01679256e+00, -1.01259972e+00,\n",
       "         -1.00842461e+00, -1.00426700e+00, -1.00012668e+00, -9.96003439e-01,\n",
       "         -9.91897058e-01, -9.87807334e-01, -9.83734067e-01, -9.79677056e-01,\n",
       "         -9.75636106e-01, -9.71611024e-01, -9.67601623e-01, -9.63607717e-01,\n",
       "         -9.59629122e-01, -9.55665660e-01, -9.51717154e-01, -9.47783430e-01,\n",
       "         -9.43864319e-01, -9.39959651e-01, -9.36069261e-01, -9.32192988e-01,\n",
       "         -9.28330671e-01, -9.24482153e-01, -9.20647280e-01, -9.16825898e-01,\n",
       "         -9.13017857e-01, -9.09223011e-01, -9.05441213e-01, -9.01672321e-01,\n",
       "         -8.97916193e-01, -8.94172691e-01, -8.90441678e-01, -8.86723020e-01,\n",
       "         -8.83016583e-01, -8.79322237e-01, -8.75639853e-01, -8.71969305e-01,\n",
       "         -8.68310468e-01, -8.64663218e-01, -8.61027434e-01, -8.57402996e-01,\n",
       "         -8.53789787e-01, -8.50187690e-01, -8.46596591e-01, -8.43016376e-01,\n",
       "         -8.39446935e-01, -8.35888157e-01, -8.32339934e-01, -8.28802160e-01,\n",
       "         -8.25274728e-01, -8.21757535e-01, -8.18250479e-01, -8.14753457e-01,\n",
       "         -8.11266372e-01, -8.07789123e-01, -8.04321614e-01, -8.00863750e-01,\n",
       "         -7.97415434e-01, -7.93976575e-01, -7.90547079e-01, -7.87126857e-01,\n",
       "         -7.83715817e-01, -7.80313872e-01, -7.76920933e-01, -7.73536915e-01,\n",
       "         -7.70161733e-01, -7.66795301e-01, -7.63437536e-01, -7.60088358e-01,\n",
       "         -7.56747683e-01, -7.53415433e-01, -7.50091527e-01, -7.46775888e-01,\n",
       "         -7.43468439e-01, -7.40169103e-01, -7.36877804e-01, -7.33594468e-01,\n",
       "         -7.30319022e-01, -7.27051392e-01, -7.23791507e-01, -7.20539295e-01,\n",
       "         -7.17294687e-01, -7.14057613e-01, -7.10828003e-01, -7.07605791e-01,\n",
       "         -7.04390909e-01, -7.01183291e-01, -6.97982871e-01, -6.94789584e-01,\n",
       "         -6.91603367e-01, -6.88424155e-01, -6.85251886e-01, -6.82086498e-01,\n",
       "         -6.78927930e-01, -6.75776120e-01, -6.72631010e-01, -6.69492539e-01,\n",
       "         -6.66360648e-01, -6.63235280e-01, -6.60116377e-01, -6.57003883e-01,\n",
       "         -6.53897740e-01, -6.50797893e-01, -6.47704287e-01, -6.44616868e-01,\n",
       "         -6.41535581e-01, -6.38460373e-01, -6.35391191e-01, -6.32327983e-01,\n",
       "         -6.29270697e-01, -6.26219281e-01, -6.23173684e-01, -6.20133858e-01,\n",
       "         -6.17099750e-01, -6.14071313e-01, -6.11048498e-01, -6.08031256e-01,\n",
       "         -6.05019539e-01, -6.02013299e-01, -5.99012491e-01, -5.96017067e-01,\n",
       "         -5.93026981e-01, -5.90042188e-01, -5.87062643e-01, -5.84088300e-01,\n",
       "         -5.81119115e-01, -5.78155045e-01, -5.75196045e-01, -5.72242074e-01,\n",
       "         -5.69293087e-01, -5.66349043e-01, -5.63409899e-01, -5.60475614e-01,\n",
       "         -5.57546147e-01, -5.54621458e-01, -5.51701504e-01, -5.48786247e-01,\n",
       "         -5.45875647e-01, -5.42969663e-01, -5.40068258e-01, -5.37171392e-01,\n",
       "         -5.34279026e-01, -5.31391124e-01, -5.28507646e-01, -5.25628557e-01,\n",
       "         -5.22753817e-01, -5.19883391e-01, -5.17017243e-01, -5.14155335e-01,\n",
       "         -5.11297632e-01, -5.08444099e-01, -5.05594699e-01, -5.02749399e-01,\n",
       "         -4.99908163e-01, -4.97070957e-01, -4.94237747e-01, -4.91408498e-01,\n",
       "         -4.88583178e-01, -4.85761752e-01, -4.82944188e-01, -4.80130452e-01,\n",
       "         -4.77320513e-01, -4.74514337e-01, -4.71711893e-01, -4.68913149e-01,\n",
       "         -4.66118073e-01, -4.63326634e-01, -4.60538801e-01, -4.57754542e-01,\n",
       "         -4.54973827e-01, -4.52196626e-01, -4.49422908e-01, -4.46652644e-01,\n",
       "         -4.43885803e-01, -4.41122356e-01, -4.38362274e-01, -4.35605527e-01,\n",
       "         -4.32852086e-01, -4.30101924e-01, -4.27355010e-01, -4.24611318e-01,\n",
       "         -4.21870818e-01, -4.19133483e-01, -4.16399284e-01, -4.13668196e-01,\n",
       "         -4.10940189e-01, -4.08215237e-01, -4.05493313e-01, -4.02774389e-01,\n",
       "         -4.00058440e-01, -3.97345439e-01, -3.94635359e-01, -3.91928175e-01,\n",
       "         -3.89223860e-01, -3.86522388e-01, -3.83823735e-01, -3.81127874e-01,\n",
       "         -3.78434779e-01, -3.75744427e-01, -3.73056792e-01, -3.70371848e-01,\n",
       "         -3.67689572e-01, -3.65009939e-01, -3.62332924e-01, -3.59658504e-01,\n",
       "         -3.56986653e-01, -3.54317348e-01, -3.51650566e-01, -3.48986282e-01,\n",
       "         -3.46324472e-01, -3.43665115e-01, -3.41008186e-01, -3.38353661e-01,\n",
       "         -3.35701519e-01, -3.33051736e-01, -3.30404290e-01, -3.27759157e-01,\n",
       "         -3.25116316e-01, -3.22475743e-01, -3.19837417e-01, -3.17201315e-01,\n",
       "         -3.14567416e-01, -3.11935698e-01, -3.09306138e-01, -3.06678715e-01,\n",
       "         -3.04053407e-01, -3.01430193e-01, -2.98809052e-01, -2.96189962e-01,\n",
       "         -2.93572903e-01, -2.90957852e-01, -2.88344790e-01, -2.85733695e-01,\n",
       "         -2.83124547e-01, -2.80517325e-01, -2.77912008e-01, -2.75308576e-01,\n",
       "         -2.72707009e-01, -2.70107286e-01, -2.67509388e-01, -2.64913294e-01,\n",
       "         -2.62318984e-01, -2.59726438e-01, -2.57135637e-01, -2.54546561e-01,\n",
       "         -2.51959189e-01, -2.49373504e-01, -2.46789484e-01, -2.44207112e-01,\n",
       "         -2.41626367e-01, -2.39047230e-01, -2.36469683e-01, -2.33893705e-01,\n",
       "         -2.31319279e-01, -2.28746384e-01, -2.26175004e-01, -2.23605117e-01,\n",
       "         -2.21036707e-01, -2.18469754e-01, -2.15904240e-01, -2.13340146e-01,\n",
       "         -2.10777454e-01, -2.08216145e-01, -2.05656202e-01, -2.03097605e-01,\n",
       "         -2.00540338e-01, -1.97984381e-01, -1.95429717e-01, -1.92876328e-01,\n",
       "         -1.90324196e-01, -1.87773302e-01, -1.85223630e-01, -1.82675162e-01,\n",
       "         -1.80127879e-01, -1.77581765e-01, -1.75036802e-01, -1.72492971e-01,\n",
       "         -1.69950256e-01, -1.67408640e-01, -1.64868105e-01, -1.62328633e-01,\n",
       "         -1.59790208e-01, -1.57252812e-01, -1.54716428e-01, -1.52181038e-01,\n",
       "         -1.49646627e-01, -1.47113177e-01, -1.44580670e-01, -1.42049091e-01,\n",
       "         -1.39518421e-01, -1.36988645e-01, -1.34459745e-01, -1.31931705e-01,\n",
       "         -1.29404507e-01, -1.26878136e-01, -1.24352575e-01, -1.21827806e-01,\n",
       "         -1.19303813e-01, -1.16780581e-01, -1.14258092e-01, -1.11736329e-01,\n",
       "         -1.09215277e-01, -1.06694919e-01, -1.04175238e-01, -1.01656219e-01,\n",
       "         -9.91378445e-02, -9.66200987e-02, -9.41029651e-02, -9.15864277e-02,\n",
       "         -8.90704701e-02, -8.65550762e-02, -8.40402299e-02, -8.15259149e-02,\n",
       "         -7.90121153e-02, -7.64988148e-02, -7.39859974e-02, -7.14736472e-02,\n",
       "         -6.89617480e-02, -6.64502838e-02, -6.39392387e-02, -6.14285967e-02,\n",
       "         -5.89183419e-02, -5.64084582e-02, -5.38989299e-02, -5.13897409e-02,\n",
       "         -4.88808755e-02, -4.63723177e-02, -4.38640516e-02, -4.13560616e-02,\n",
       "         -3.88483316e-02, -3.63408459e-02, -3.38335886e-02, -3.13265441e-02,\n",
       "         -2.88196964e-02, -2.63130298e-02, -2.38065286e-02, -2.13001769e-02,\n",
       "         -1.87939590e-02, -1.62878591e-02, -1.37818616e-02, -1.12759505e-02,\n",
       "         -8.77011034e-03, -6.26432519e-03, -3.75857938e-03, -1.25285717e-03,\n",
       "          1.25285717e-03,  3.75857938e-03,  6.26432519e-03,  8.77011034e-03,\n",
       "          1.12759505e-02,  1.37818616e-02,  1.62878591e-02,  1.87939590e-02,\n",
       "          2.13001769e-02,  2.38065286e-02,  2.63130298e-02,  2.88196964e-02,\n",
       "          3.13265441e-02,  3.38335886e-02,  3.63408459e-02,  3.88483316e-02,\n",
       "          4.13560616e-02,  4.38640516e-02,  4.63723177e-02,  4.88808755e-02,\n",
       "          5.13897409e-02,  5.38989299e-02,  5.64084582e-02,  5.89183419e-02,\n",
       "          6.14285967e-02,  6.39392387e-02,  6.64502838e-02,  6.89617480e-02,\n",
       "          7.14736472e-02,  7.39859974e-02,  7.64988148e-02,  7.90121153e-02,\n",
       "          8.15259149e-02,  8.40402299e-02,  8.65550762e-02,  8.90704701e-02,\n",
       "          9.15864277e-02,  9.41029651e-02,  9.66200987e-02,  9.91378445e-02,\n",
       "          1.01656219e-01,  1.04175238e-01,  1.06694919e-01,  1.09215277e-01,\n",
       "          1.11736329e-01,  1.14258092e-01,  1.16780581e-01,  1.19303813e-01,\n",
       "          1.21827806e-01,  1.24352575e-01,  1.26878136e-01,  1.29404507e-01,\n",
       "          1.31931705e-01,  1.34459745e-01,  1.36988645e-01,  1.39518421e-01,\n",
       "          1.42049091e-01,  1.44580670e-01,  1.47113177e-01,  1.49646627e-01,\n",
       "          1.52181038e-01,  1.54716428e-01,  1.57252812e-01,  1.59790208e-01,\n",
       "          1.62328633e-01,  1.64868105e-01,  1.67408640e-01,  1.69950256e-01,\n",
       "          1.72492971e-01,  1.75036802e-01,  1.77581765e-01,  1.80127879e-01,\n",
       "          1.82675162e-01,  1.85223630e-01,  1.87773302e-01,  1.90324196e-01,\n",
       "          1.92876328e-01,  1.95429717e-01,  1.97984381e-01,  2.00540338e-01,\n",
       "          2.03097605e-01,  2.05656202e-01,  2.08216145e-01,  2.10777454e-01,\n",
       "          2.13340146e-01,  2.15904240e-01,  2.18469754e-01,  2.21036707e-01,\n",
       "          2.23605117e-01,  2.26175004e-01,  2.28746384e-01,  2.31319279e-01,\n",
       "          2.33893705e-01,  2.36469683e-01,  2.39047230e-01,  2.41626367e-01,\n",
       "          2.44207112e-01,  2.46789484e-01,  2.49373504e-01,  2.51959189e-01,\n",
       "          2.54546561e-01,  2.57135637e-01,  2.59726438e-01,  2.62318984e-01,\n",
       "          2.64913294e-01,  2.67509388e-01,  2.70107286e-01,  2.72707009e-01,\n",
       "          2.75308576e-01,  2.77912008e-01,  2.80517325e-01,  2.83124547e-01,\n",
       "          2.85733695e-01,  2.88344790e-01,  2.90957852e-01,  2.93572903e-01,\n",
       "          2.96189962e-01,  2.98809052e-01,  3.01430193e-01,  3.04053407e-01,\n",
       "          3.06678715e-01,  3.09306138e-01,  3.11935698e-01,  3.14567416e-01,\n",
       "          3.17201315e-01,  3.19837417e-01,  3.22475743e-01,  3.25116316e-01,\n",
       "          3.27759157e-01,  3.30404290e-01,  3.33051736e-01,  3.35701519e-01,\n",
       "          3.38353661e-01,  3.41008186e-01,  3.43665115e-01,  3.46324472e-01,\n",
       "          3.48986282e-01,  3.51650566e-01,  3.54317348e-01,  3.56986653e-01,\n",
       "          3.59658504e-01,  3.62332924e-01,  3.65009939e-01,  3.67689572e-01,\n",
       "          3.70371848e-01,  3.73056792e-01,  3.75744427e-01,  3.78434779e-01,\n",
       "          3.81127874e-01,  3.83823735e-01,  3.86522388e-01,  3.89223860e-01,\n",
       "          3.91928175e-01,  3.94635359e-01,  3.97345439e-01,  4.00058440e-01,\n",
       "          4.02774389e-01,  4.05493313e-01,  4.08215237e-01,  4.10940189e-01,\n",
       "          4.13668196e-01,  4.16399284e-01,  4.19133483e-01,  4.21870818e-01,\n",
       "          4.24611318e-01,  4.27355010e-01,  4.30101924e-01,  4.32852086e-01,\n",
       "          4.35605527e-01,  4.38362274e-01,  4.41122356e-01,  4.43885803e-01,\n",
       "          4.46652644e-01,  4.49422908e-01,  4.52196626e-01,  4.54973827e-01,\n",
       "          4.57754542e-01,  4.60538801e-01,  4.63326634e-01,  4.66118073e-01,\n",
       "          4.68913149e-01,  4.71711893e-01,  4.74514337e-01,  4.77320513e-01,\n",
       "          4.80130452e-01,  4.82944188e-01,  4.85761752e-01,  4.88583178e-01,\n",
       "          4.91408498e-01,  4.94237747e-01,  4.97070957e-01,  4.99908163e-01,\n",
       "          5.02749399e-01,  5.05594699e-01,  5.08444099e-01,  5.11297632e-01,\n",
       "          5.14155335e-01,  5.17017243e-01,  5.19883391e-01,  5.22753817e-01,\n",
       "          5.25628557e-01,  5.28507646e-01,  5.31391124e-01,  5.34279026e-01,\n",
       "          5.37171392e-01,  5.40068258e-01,  5.42969663e-01,  5.45875647e-01,\n",
       "          5.48786247e-01,  5.51701504e-01,  5.54621458e-01,  5.57546147e-01,\n",
       "          5.60475614e-01,  5.63409899e-01,  5.66349043e-01,  5.69293087e-01,\n",
       "          5.72242074e-01,  5.75196045e-01,  5.78155045e-01,  5.81119115e-01,\n",
       "          5.84088300e-01,  5.87062643e-01,  5.90042188e-01,  5.93026981e-01,\n",
       "          5.96017067e-01,  5.99012491e-01,  6.02013299e-01,  6.05019539e-01,\n",
       "          6.08031256e-01,  6.11048498e-01,  6.14071313e-01,  6.17099750e-01,\n",
       "          6.20133858e-01,  6.23173684e-01,  6.26219281e-01,  6.29270697e-01,\n",
       "          6.32327983e-01,  6.35391191e-01,  6.38460373e-01,  6.41535581e-01,\n",
       "          6.44616868e-01,  6.47704287e-01,  6.50797893e-01,  6.53897740e-01,\n",
       "          6.57003883e-01,  6.60116377e-01,  6.63235280e-01,  6.66360648e-01,\n",
       "          6.69492539e-01,  6.72631010e-01,  6.75776120e-01,  6.78927930e-01,\n",
       "          6.82086498e-01,  6.85251886e-01,  6.88424155e-01,  6.91603367e-01,\n",
       "          6.94789584e-01,  6.97982871e-01,  7.01183291e-01,  7.04390909e-01,\n",
       "          7.07605791e-01,  7.10828003e-01,  7.14057613e-01,  7.17294687e-01,\n",
       "          7.20539295e-01,  7.23791507e-01,  7.27051392e-01,  7.30319022e-01,\n",
       "          7.33594468e-01,  7.36877804e-01,  7.40169103e-01,  7.43468439e-01,\n",
       "          7.46775888e-01,  7.50091527e-01,  7.53415433e-01,  7.56747683e-01,\n",
       "          7.60088358e-01,  7.63437536e-01,  7.66795301e-01,  7.70161733e-01,\n",
       "          7.73536915e-01,  7.76920933e-01,  7.80313872e-01,  7.83715817e-01,\n",
       "          7.87126857e-01,  7.90547079e-01,  7.93976575e-01,  7.97415434e-01,\n",
       "          8.00863750e-01,  8.04321614e-01,  8.07789123e-01,  8.11266372e-01,\n",
       "          8.14753457e-01,  8.18250479e-01,  8.21757535e-01,  8.25274728e-01,\n",
       "          8.28802160e-01,  8.32339934e-01,  8.35888157e-01,  8.39446935e-01,\n",
       "          8.43016376e-01,  8.46596591e-01,  8.50187690e-01,  8.53789787e-01,\n",
       "          8.57402996e-01,  8.61027434e-01,  8.64663218e-01,  8.68310468e-01,\n",
       "          8.71969305e-01,  8.75639853e-01,  8.79322237e-01,  8.83016583e-01,\n",
       "          8.86723020e-01,  8.90441678e-01,  8.94172691e-01,  8.97916193e-01,\n",
       "          9.01672321e-01,  9.05441213e-01,  9.09223011e-01,  9.13017857e-01,\n",
       "          9.16825898e-01,  9.20647280e-01,  9.24482153e-01,  9.28330671e-01,\n",
       "          9.32192988e-01,  9.36069261e-01,  9.39959651e-01,  9.43864319e-01,\n",
       "          9.47783430e-01,  9.51717154e-01,  9.55665660e-01,  9.59629122e-01,\n",
       "          9.63607717e-01,  9.67601623e-01,  9.71611024e-01,  9.75636106e-01,\n",
       "          9.79677056e-01,  9.83734067e-01,  9.87807334e-01,  9.91897058e-01,\n",
       "          9.96003439e-01,  1.00012668e+00,  1.00426700e+00,  1.00842461e+00,\n",
       "          1.01259972e+00,  1.01679256e+00,  1.02100335e+00,  1.02523232e+00,\n",
       "          1.02947970e+00,  1.03374574e+00,  1.03803068e+00,  1.04233476e+00,\n",
       "          1.04665824e+00,  1.05100137e+00,  1.05536442e+00,  1.05974765e+00,\n",
       "          1.06415133e+00,  1.06857575e+00,  1.07302119e+00,  1.07748793e+00,\n",
       "          1.08197628e+00,  1.08648653e+00,  1.09101899e+00,  1.09557397e+00,\n",
       "          1.10015180e+00,  1.10475280e+00,  1.10937731e+00,  1.11402566e+00,\n",
       "          1.11869822e+00,  1.12339532e+00,  1.12811734e+00,  1.13286465e+00,\n",
       "          1.13763763e+00,  1.14243667e+00,  1.14726217e+00,  1.15211453e+00,\n",
       "          1.15699416e+00,  1.16190151e+00,  1.16683699e+00,  1.17180107e+00,\n",
       "          1.17679419e+00,  1.18181682e+00,  1.18686944e+00,  1.19195255e+00,\n",
       "          1.19706664e+00,  1.20221223e+00,  1.20738985e+00,  1.21260004e+00,\n",
       "          1.21784337e+00,  1.22312038e+00,  1.22843168e+00,  1.23377786e+00,\n",
       "          1.23915954e+00,  1.24457735e+00,  1.25003194e+00,  1.25552398e+00,\n",
       "          1.26105415e+00,  1.26662315e+00,  1.27223172e+00,  1.27788060e+00,\n",
       "          1.28357055e+00,  1.28930237e+00,  1.29507686e+00,  1.30089485e+00,\n",
       "          1.30675722e+00,  1.31266485e+00,  1.31861865e+00,  1.32461956e+00,\n",
       "          1.33066855e+00,  1.33676663e+00,  1.34291482e+00,  1.34911421e+00,\n",
       "          1.35536588e+00,  1.36167098e+00,  1.36803067e+00,  1.37444619e+00,\n",
       "          1.38091878e+00,  1.38744975e+00,  1.39404044e+00,  1.40069224e+00,\n",
       "          1.40740661e+00,  1.41418503e+00,  1.42102906e+00,  1.42794030e+00,\n",
       "          1.43492043e+00,  1.44197119e+00,  1.44909437e+00,  1.45629184e+00,\n",
       "          1.46356555e+00,  1.47091753e+00,  1.47834989e+00,  1.48586482e+00,\n",
       "          1.49346462e+00,  1.50115166e+00,  1.50892845e+00,  1.51679758e+00,\n",
       "          1.52476177e+00,  1.53282387e+00,  1.54098684e+00,  1.54925381e+00,\n",
       "          1.55762804e+00,  1.56611295e+00,  1.57471213e+00,  1.58342935e+00,\n",
       "          1.59226859e+00,  1.60123402e+00,  1.61033003e+00,  1.61956127e+00,\n",
       "          1.62893261e+00,  1.63844924e+00,  1.64811661e+00,  1.65794051e+00,\n",
       "          1.66792707e+00,  1.67808281e+00,  1.68841463e+00,  1.69892989e+00,\n",
       "          1.70963644e+00,  1.72054262e+00,  1.73165738e+00,  1.74299028e+00,\n",
       "          1.75455157e+00,  1.76635224e+00,  1.77840415e+00,  1.79072004e+00,\n",
       "          1.80331371e+00,  1.81620005e+00,  1.82939524e+00,  1.84291686e+00,\n",
       "          1.85678408e+00,  1.87101783e+00,  1.88564107e+00,  1.90067901e+00,\n",
       "          1.91615948e+00,  1.93211325e+00,  1.94857451e+00,  1.96558137e+00,\n",
       "          1.98317650e+00,  2.00140792e+00,  2.02032992e+00,  2.04000420e+00,\n",
       "          2.06050135e+00,  2.08190261e+00,  2.10430217e+00,  2.12781017e+00,\n",
       "          2.15255643e+00,  2.17869564e+00,  2.20641415e+00,  2.23593934e+00,\n",
       "          2.26755284e+00,  2.30160949e+00,  2.33856546e+00,  2.37902149e+00,\n",
       "          2.42379214e+00,  2.47402263e+00,  2.53139899e+00,  2.59855946e+00,\n",
       "          2.67999560e+00,  2.78437841e+00,  2.93237785e+00,  3.19758950e+00]),\n",
       "  array([7.13, 7.17, 7.23, 7.23, 7.32, 7.37, 7.38, 7.39, 7.47, 7.48, 7.48,\n",
       "         7.49, 7.5 , 7.54, 7.56, 7.57, 7.57, 7.58, 7.59, 7.59, 7.59, 7.59,\n",
       "         7.6 , 7.6 , 7.6 , 7.6 , 7.6 , 7.6 , 7.62, 7.63, 7.64, 7.65, 7.65,\n",
       "         7.65, 7.65, 7.67, 7.68, 7.68, 7.68, 7.68, 7.68, 7.69, 7.69, 7.7 ,\n",
       "         7.7 , 7.7 , 7.7 , 7.71, 7.71, 7.71, 7.74, 7.74, 7.74, 7.74, 7.75,\n",
       "         7.75, 7.76, 7.76, 7.77, 7.77, 7.77, 7.77, 7.77, 7.77, 7.77, 7.78,\n",
       "         7.78, 7.78, 7.78, 7.79, 7.79, 7.79, 7.79, 7.79, 7.8 , 7.8 , 7.8 ,\n",
       "         7.8 , 7.8 , 7.8 , 7.8 , 7.8 , 7.81, 7.81, 7.81, 7.82, 7.82, 7.82,\n",
       "         7.82, 7.82, 7.82, 7.83, 7.83, 7.83, 7.83, 7.83, 7.84, 7.85, 7.85,\n",
       "         7.86, 7.86, 7.86, 7.86, 7.86, 7.87, 7.87, 7.87, 7.87, 7.87, 7.87,\n",
       "         7.87, 7.87, 7.87, 7.88, 7.88, 7.88, 7.88, 7.88, 7.88, 7.89, 7.89,\n",
       "         7.89, 7.89, 7.9 , 7.91, 7.91, 7.91, 7.92, 7.92, 7.92, 7.93, 7.93,\n",
       "         7.93, 7.93, 7.93, 7.93, 7.94, 7.94, 7.94, 7.94, 7.94, 7.94, 7.95,\n",
       "         7.95, 7.95, 7.95, 7.95, 7.95, 7.95, 7.95, 7.96, 7.96, 7.96, 7.96,\n",
       "         7.96, 7.96, 7.96, 7.96, 7.96, 7.97, 7.97, 7.97, 7.97, 7.97, 7.98,\n",
       "         7.98, 7.98, 7.98, 7.98, 7.98, 7.98, 7.98, 7.98, 7.98, 7.99, 7.99,\n",
       "         7.99, 7.99, 7.99, 7.99, 7.99, 8.  , 8.  , 8.  , 8.  , 8.  , 8.  ,\n",
       "         8.  , 8.  , 8.  , 8.  , 8.  , 8.  , 8.  , 8.01, 8.01, 8.01, 8.01,\n",
       "         8.01, 8.01, 8.01, 8.02, 8.02, 8.02, 8.02, 8.02, 8.02, 8.02, 8.02,\n",
       "         8.03, 8.03, 8.03, 8.03, 8.03, 8.03, 8.03, 8.03, 8.04, 8.04, 8.04,\n",
       "         8.04, 8.04, 8.04, 8.04, 8.04, 8.04, 8.05, 8.05, 8.05, 8.05, 8.05,\n",
       "         8.05, 8.05, 8.06, 8.06, 8.06, 8.06, 8.06, 8.06, 8.06, 8.06, 8.06,\n",
       "         8.07, 8.07, 8.07, 8.07, 8.07, 8.07, 8.07, 8.07, 8.07, 8.08, 8.08,\n",
       "         8.08, 8.08, 8.08, 8.09, 8.09, 8.09, 8.09, 8.09, 8.09, 8.09, 8.09,\n",
       "         8.09, 8.09, 8.1 , 8.1 , 8.1 , 8.1 , 8.1 , 8.1 , 8.1 , 8.1 , 8.11,\n",
       "         8.11, 8.11, 8.11, 8.11, 8.11, 8.11, 8.11, 8.11, 8.11, 8.11, 8.11,\n",
       "         8.11, 8.11, 8.12, 8.12, 8.12, 8.12, 8.12, 8.12, 8.12, 8.12, 8.12,\n",
       "         8.12, 8.12, 8.13, 8.13, 8.13, 8.13, 8.13, 8.13, 8.13, 8.13, 8.14,\n",
       "         8.14, 8.14, 8.14, 8.14, 8.14, 8.14, 8.15, 8.15, 8.15, 8.15, 8.15,\n",
       "         8.15, 8.16, 8.16, 8.16, 8.16, 8.16, 8.16, 8.16, 8.16, 8.16, 8.16,\n",
       "         8.16, 8.16, 8.17, 8.17, 8.17, 8.17, 8.17, 8.17, 8.17, 8.17, 8.17,\n",
       "         8.17, 8.18, 8.18, 8.18, 8.18, 8.18, 8.18, 8.18, 8.18, 8.18, 8.18,\n",
       "         8.19, 8.19, 8.19, 8.19, 8.19, 8.19, 8.19, 8.19, 8.2 , 8.2 , 8.2 ,\n",
       "         8.2 , 8.2 , 8.2 , 8.2 , 8.2 , 8.2 , 8.2 , 8.2 , 8.2 , 8.2 , 8.21,\n",
       "         8.21, 8.21, 8.21, 8.21, 8.21, 8.21, 8.21, 8.21, 8.22, 8.22, 8.22,\n",
       "         8.22, 8.22, 8.22, 8.23, 8.23, 8.23, 8.23, 8.23, 8.23, 8.23, 8.23,\n",
       "         8.23, 8.23, 8.24, 8.24, 8.24, 8.24, 8.24, 8.24, 8.24, 8.24, 8.24,\n",
       "         8.24, 8.24, 8.24, 8.24, 8.25, 8.25, 8.25, 8.26, 8.26, 8.26, 8.26,\n",
       "         8.26, 8.26, 8.26, 8.27, 8.27, 8.27, 8.27, 8.27, 8.27, 8.27, 8.27,\n",
       "         8.27, 8.28, 8.28, 8.28, 8.28, 8.28, 8.28, 8.28, 8.28, 8.28, 8.28,\n",
       "         8.28, 8.29, 8.29, 8.29, 8.29, 8.29, 8.29, 8.29, 8.29, 8.3 , 8.3 ,\n",
       "         8.3 , 8.3 , 8.3 , 8.3 , 8.3 , 8.3 , 8.3 , 8.3 , 8.3 , 8.31, 8.31,\n",
       "         8.31, 8.31, 8.31, 8.31, 8.31, 8.31, 8.31, 8.31, 8.32, 8.32, 8.32,\n",
       "         8.32, 8.32, 8.32, 8.32, 8.32, 8.32, 8.32, 8.32, 8.32, 8.32, 8.32,\n",
       "         8.32, 8.32, 8.32, 8.33, 8.33, 8.33, 8.33, 8.33, 8.33, 8.33, 8.34,\n",
       "         8.34, 8.34, 8.34, 8.34, 8.34, 8.34, 8.34, 8.34, 8.34, 8.34, 8.34,\n",
       "         8.34, 8.34, 8.34, 8.34, 8.34, 8.34, 8.34, 8.35, 8.35, 8.35, 8.35,\n",
       "         8.35, 8.36, 8.36, 8.36, 8.36, 8.36, 8.36, 8.36, 8.36, 8.36, 8.36,\n",
       "         8.36, 8.37, 8.37, 8.37, 8.37, 8.37, 8.37, 8.37, 8.37, 8.37, 8.37,\n",
       "         8.37, 8.38, 8.38, 8.38, 8.38, 8.38, 8.38, 8.38, 8.38, 8.39, 8.39,\n",
       "         8.39, 8.39, 8.39, 8.39, 8.39, 8.39, 8.39, 8.39, 8.39, 8.39, 8.39,\n",
       "         8.4 , 8.4 , 8.4 , 8.4 , 8.4 , 8.4 , 8.41, 8.41, 8.41, 8.41, 8.41,\n",
       "         8.41, 8.41, 8.41, 8.41, 8.41, 8.42, 8.42, 8.42, 8.42, 8.42, 8.42,\n",
       "         8.42, 8.42, 8.42, 8.42, 8.42, 8.42, 8.43, 8.43, 8.43, 8.43, 8.43,\n",
       "         8.43, 8.43, 8.43, 8.43, 8.44, 8.44, 8.44, 8.44, 8.44, 8.44, 8.44,\n",
       "         8.44, 8.44, 8.44, 8.44, 8.44, 8.44, 8.45, 8.45, 8.45, 8.45, 8.45,\n",
       "         8.45, 8.45, 8.45, 8.45, 8.45, 8.45, 8.46, 8.46, 8.46, 8.46, 8.46,\n",
       "         8.46, 8.46, 8.47, 8.47, 8.47, 8.47, 8.48, 8.48, 8.48, 8.48, 8.48,\n",
       "         8.48, 8.48, 8.48, 8.48, 8.49, 8.49, 8.49, 8.49, 8.49, 8.49, 8.49,\n",
       "         8.49, 8.49, 8.49, 8.49, 8.49, 8.49, 8.49, 8.49, 8.5 , 8.5 , 8.5 ,\n",
       "         8.5 , 8.5 , 8.5 , 8.5 , 8.5 , 8.5 , 8.5 , 8.51, 8.51, 8.51, 8.51,\n",
       "         8.51, 8.51, 8.51, 8.51, 8.51, 8.52, 8.52, 8.52, 8.52, 8.52, 8.52,\n",
       "         8.52, 8.52, 8.53, 8.53, 8.53, 8.53, 8.53, 8.53, 8.53, 8.53, 8.53,\n",
       "         8.53, 8.53, 8.53, 8.54, 8.54, 8.54, 8.54, 8.54, 8.54, 8.54, 8.54,\n",
       "         8.54, 8.54, 8.54, 8.54, 8.54, 8.54, 8.55, 8.55, 8.55, 8.55, 8.55,\n",
       "         8.55, 8.55, 8.55, 8.55, 8.55, 8.55, 8.55, 8.56, 8.56, 8.56, 8.56,\n",
       "         8.56, 8.56, 8.57, 8.57, 8.57, 8.57, 8.57, 8.57, 8.57, 8.57, 8.57,\n",
       "         8.57, 8.58, 8.58, 8.58, 8.58, 8.58, 8.58, 8.58, 8.58, 8.58, 8.59,\n",
       "         8.59, 8.59, 8.59, 8.59, 8.59, 8.59, 8.59, 8.59, 8.59, 8.6 , 8.6 ,\n",
       "         8.6 , 8.6 , 8.6 , 8.6 , 8.6 , 8.6 , 8.6 , 8.6 , 8.6 , 8.6 , 8.6 ,\n",
       "         8.6 , 8.61, 8.61, 8.61, 8.61, 8.61, 8.61, 8.61, 8.61, 8.61, 8.61,\n",
       "         8.61, 8.61, 8.62, 8.62, 8.62, 8.62, 8.62, 8.62, 8.62, 8.63, 8.63,\n",
       "         8.63, 8.63, 8.63, 8.63, 8.63, 8.63, 8.63, 8.63, 8.63, 8.63, 8.64,\n",
       "         8.64, 8.64, 8.64, 8.64, 8.65, 8.65, 8.65, 8.65, 8.65, 8.65, 8.65,\n",
       "         8.65, 8.65, 8.65, 8.65, 8.65, 8.65, 8.65, 8.66, 8.66, 8.66, 8.66,\n",
       "         8.66, 8.67, 8.67, 8.67, 8.67, 8.67, 8.67, 8.68, 8.68, 8.68, 8.68,\n",
       "         8.68, 8.69, 8.69, 8.69, 8.7 , 8.7 , 8.7 , 8.7 , 8.7 , 8.7 , 8.7 ,\n",
       "         8.71, 8.71, 8.71, 8.71, 8.71, 8.71, 8.72, 8.72, 8.72, 8.72, 8.72,\n",
       "         8.72, 8.73, 8.73, 8.73, 8.74, 8.74, 8.74, 8.74, 8.74, 8.74, 8.75,\n",
       "         8.76, 8.76, 8.76, 8.76, 8.77, 8.77, 8.78, 8.78, 8.78, 8.79, 8.79,\n",
       "         8.79, 8.79, 8.79, 8.79, 8.79, 8.79, 8.8 , 8.8 , 8.8 , 8.8 , 8.8 ,\n",
       "         8.8 , 8.81, 8.81, 8.81, 8.81, 8.82, 8.82, 8.82, 8.82, 8.82, 8.83,\n",
       "         8.83, 8.83, 8.83, 8.84, 8.84, 8.84, 8.84, 8.85, 8.85, 8.86, 8.86,\n",
       "         8.86, 8.86, 8.87, 8.87, 8.87, 8.87, 8.87, 8.87, 8.87, 8.88, 8.88,\n",
       "         8.89, 8.89, 8.89, 8.89, 8.89, 8.9 , 8.9 , 8.9 , 8.9 , 8.9 , 8.91,\n",
       "         8.91, 8.91, 8.91, 8.91, 8.91, 8.92, 8.92, 8.93, 8.93, 8.93, 8.93,\n",
       "         8.93, 8.94, 8.94, 8.94, 8.95, 8.95, 8.96, 8.96, 8.96, 8.97, 8.97,\n",
       "         8.97, 8.98, 8.98, 8.98, 8.99, 8.99, 8.99, 9.01, 9.01, 9.02, 9.02,\n",
       "         9.02, 9.02, 9.03, 9.03, 9.04, 9.04, 9.04, 9.05, 9.05, 9.07, 9.08,\n",
       "         9.09, 9.09, 9.09, 9.1 , 9.11, 9.11, 9.12, 9.14, 9.14, 9.14, 9.15,\n",
       "         9.18, 9.19, 9.22, 9.26, 9.27, 9.28, 9.28, 9.29, 9.31, 9.49])),\n",
       " (0.37259790425474104, 8.333689999999999, 0.9994579874595262))"
      ]
     },
     "execution_count": 121,
     "metadata": {},
     "output_type": "execute_result"
    },
    {
     "data": {
      "image/png": "[encoded data removed]",
      "text/plain": [
       "<Figure size 648x360 with 1 Axes>"
      ]
     },
     "metadata": {
      "needs_background": "light"
     },
     "output_type": "display_data"
    }
   ],
   "source": [
    "plt.figure(figsize = (9,5))\n",
    "stats.probplot(m, dist=stats.norm, plot = plt)"
   ]
  },
  {
   "cell_type": "markdown",
   "metadata": {},
   "source": [
    "# ㄹㅇ 정규분포가 맞는거같네요\n",
    "# 이것은 중심극한정리라는것 때문에 발생한 일입니다.\n",
    "# 어떤 이상한 확률분포도 그 평균의 샘플을 많이 뽑아서 평균의 분포도를 그리면 정규분포와 가까워집니다."
   ]
  },
  {
   "cell_type": "markdown",
   "metadata": {},
   "source": [
    "# 다시 핑클빵으로 돌아와서, 사실 이렇게 컴퓨터로 직접 샘플을 뽑지 않고, 간단한 계산식으로 평균을 구하는 방법도 존재합니다."
   ]
  },
  {
   "cell_type": "markdown",
   "metadata": {},
   "source": [
    "# 확률분포의 기대값의 성질을 이용한 방법인데, 간단히 설명을 드리자면 다음과 같습니다.\n",
    "\n",
    "# 여러분이 핑클빵을 아직 한개도 안샀다고 생각해 봅시다.\n",
    "\n",
    "# 이때, 핑클빵을 한개 샀을때 내가 한개도 가지지 않은 스티커를 갖게될 확률은 100% 입니다. 너무 쉽죠? 이건 당연한 얘기입니다.\n",
    "\n",
    "# 그럼 만약 내가 빵을 한개를 사서 이효리 스티커를 한개 갖고 있는 상황이라고 해 봅시다.\n",
    "\n",
    "# 다음에는 확률적으로 빵을 몇개를 사야 이효리가 아닌 다른 스티커가 나오게 될까요?\n",
    "\n",
    "# 빵을 한개 더 샀을때 이효리가 아닌 다른 3명의 멤버가 나올 확률은 3/4 입니다.\n",
    "\n",
    "# 바꿔말하면 3/4의 확률로 빵을 한개 더샀을때 새로운 스티커를 모을 수 있습니다.\n",
    "\n",
    "# 하지만 그 말은 1/4의 확률로 빵을 한개 더 샀을때 또 이효리 스티커가 나올 수도 있다는 말입니다.\n",
    "\n",
    "# 만약 빵을 한개 더 사서 이효리 스티커가 나왔을때, 한개 또 사서 다른 스티커가 나올 확률은 그럼 어떻게 계산할까요?\n",
    "\n",
    "# (1/4) 곱하게 (3/4) 일겁니다.\n",
    "\n",
    "# 만약 연속으로 이효리가 2번 나오고 한번 더 사서 다른 스티커가 나올 확률은 똑같은 방법으로 (1/4) 곱하기 (1/4) 곱하기 (3/4) 입니다.\n",
    "\n",
    "# 즉 이것을 표로 만들어본다면"
   ]
  },
  {
   "cell_type": "code",
   "execution_count": 159,
   "metadata": {},
   "outputs": [
    {
     "data": {
      "text/html": [
       "<div>\n",
       "<style scoped>\n",
       "    .dataframe tbody tr th:only-of-type {\n",
       "        vertical-align: middle;\n",
       "    }\n",
       "\n",
       "    .dataframe tbody tr th {\n",
       "        vertical-align: top;\n",
       "    }\n",
       "\n",
       "    .dataframe thead th {\n",
       "        text-align: right;\n",
       "    }\n",
       "</style>\n",
       "<table border=\"1\" class=\"dataframe\">\n",
       "  <thead>\n",
       "    <tr style=\"text-align: right;\">\n",
       "      <th></th>\n",
       "      <th>첫번째 빵에서 이효리가 나왔을때 두번째 빵에서 다른 스티커가 나올 확률</th>\n",
       "    </tr>\n",
       "  </thead>\n",
       "  <tbody>\n",
       "    <tr>\n",
       "      <th>1번째</th>\n",
       "      <td>3/4</td>\n",
       "    </tr>\n",
       "    <tr>\n",
       "      <th>2번째</th>\n",
       "      <td>1/4 곱하기 3/4</td>\n",
       "    </tr>\n",
       "    <tr>\n",
       "      <th>3번째</th>\n",
       "      <td>1/4 곱하기 1/4 곱하기 3/4</td>\n",
       "    </tr>\n",
       "  </tbody>\n",
       "</table>\n",
       "</div>"
      ],
      "text/plain": [
       "    첫번째 빵에서 이효리가 나왔을때 두번째 빵에서 다른 스티커가 나올 확률\n",
       "1번째                                     3/4\n",
       "2번째                             1/4 곱하기 3/4\n",
       "3번째                     1/4 곱하기 1/4 곱하기 3/4"
      ]
     },
     "execution_count": 159,
     "metadata": {},
     "output_type": "execute_result"
    }
   ],
   "source": [
    "import pandas as pd\n",
    "pd.DataFrame(pd.Series({\n",
    "    '1번째': '3/4',\n",
    "    '2번째': '1/4 곱하기 3/4',\n",
    "    '3번째': '1/4 곱하기 1/4 곱하기 3/4'\n",
    "}, name = '첫번째 빵에서 이효리가 나왔을때 두번째 빵에서 다른 스티커가 나올 확률'))"
   ]
  },
  {
   "cell_type": "code",
   "execution_count": 148,
   "metadata": {},
   "outputs": [
    {
     "name": "stdout",
     "output_type": "stream",
     "text": [
      "8.33333333329999\n"
     ]
    }
   ],
   "source": [
    "total = 0\n",
    "for i in range(4):\n",
    "    for j in range(100):\n",
    "        total += (j+1)*((i)/4)**j * ((4 - i)/4)\n",
    "print(total)"
   ]
  },
  {
   "cell_type": "code",
   "execution_count": 174,
   "metadata": {},
   "outputs": [
    {
     "name": "stdout",
     "output_type": "stream",
     "text": [
      "845.2682688851988\n"
     ]
    }
   ],
   "source": [
    "total = 0\n",
    "n = 151\n",
    "for i in range(n):\n",
    "    for j in range(100000):\n",
    "        total += (j+1)*((i)/n)**j * ((n - i)/n)\n",
    "print(total)"
   ]
  },
  {
   "cell_type": "code",
   "execution_count": 177,
   "metadata": {},
   "outputs": [
    {
     "data": {
      "text/plain": [
       "845.268268885226"
      ]
     },
     "execution_count": 177,
     "metadata": {},
     "output_type": "execute_result"
    }
   ],
   "source": [
    "total = 0\n",
    "for i in range(1,152):\n",
    "    total += 1/i\n",
    "total *= 151\n",
    "total"
   ]
  }
 ],
 "metadata": {
  "kernelspec": {
   "display_name": "Python 3",
   "language": "python",
   "name": "python3"
  },
  "language_info": {
   "codemirror_mode": {
    "name": "ipython",
    "version": 3
   },
   "file_extension": ".py",
   "mimetype": "text/x-python",
   "name": "python",
   "nbconvert_exporter": "python",
   "pygments_lexer": "ipython3",
   "version": "3.7.6"
  }
 },
 "nbformat": 4,
 "nbformat_minor": 4
}
